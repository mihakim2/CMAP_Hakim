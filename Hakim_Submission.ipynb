{
 "cells": [
  {
   "cell_type": "markdown",
   "metadata": {},
   "source": [
    "Run all cells at once , in top menu select Kernel > Restart and Run All"
   ]
  },
  {
   "cell_type": "markdown",
   "metadata": {},
   "source": [
    "<h1 id=\"Code-Submission-for-CMAP-Geoprocessing.\">Code Submission for CMAP Assignment.</h1>\n",
    "<h3 id=\"By-Moazam-Iqbal-Hakim\">By Moazam Iqbal Hakim (<a href=\"mailto:mihakim2@illinois.edu\">mihakim2@illinois.edu</a>)</h3><br>\n",
    "For-this-assignment,-the-entire-process-has-been-done-in-Python-on-jupyter-Notebook.-The-requred-Shapefile-and-Table-(.csv)-could-be-exported-by-running-the-entire-pipeline.-These-files-are-also-enclosed-in-the-main-directery-for-this-notebook.\">For this assignment, the entire process has been done in Python on Jupiter Notebook. The required Shapefile and Table (.csv) could be exported by running the entire pipeline. These files are also enclosed in the main directory for this notebook.\n",
    "<p><strong>This notebook comprises four parts. </strong></p>\n",
    "<p><strong>1) Data Import and Processing</strong><span style=\"color: #ff0000;\"> <em>(Most requirements of the assignment are covered here)</em></span></p>\n",
    "<p><strong>2) Data Analysis </strong>- Prelimnary Analysis of findings.</p>\n",
    "<p><strong>3) Data Validation </strong>- Validating the spatial join and process used.</p>\n",
    "<p><strong>4) Data Visualization</strong>- Sample elements for dashboard.</p>\n",
    "<p><br /><em>(Note: Some extra steps in the process have been extended over multiple cells, for easy understanding.)</em><br /><br />Date- 3/2/2021</p>\n",
    "<p><img style=\"display: block; margin-left: auto; margin-right: auto;\" src=\"https://patch.com/img/cdn20/users/37684/20161229/013623/styles/raw/public/article_images/201605573b9c5198b72-1483036578-9771.jpg\" alt=\"Chicago's Divvy Bike Share Will be Third in U.S. to Reach 10 Million Riders  | Chicago, IL Patch\" width=\"544\" height=\"408\" /><br /><em>Data Credits-</em><br /><em>1) DIVVY Chicago&nbsp; &nbsp; &nbsp;</em><em>2) CMAP&nbsp; &nbsp; &nbsp; &nbsp; </em><em>3) U.S Census Bureau</em></p>\n",
    "<p><em>Photo Credit: Patch.com</em></p>"
   ]
  },
  {
   "cell_type": "markdown",
   "metadata": {},
   "source": [
    "## 1) Data Import and Processing"
   ]
  },
  {
   "cell_type": "code",
   "execution_count": 56,
   "metadata": {},
   "outputs": [],
   "source": [
    "%%capture\n",
    "!pip install rtree\n",
    "!pip install descartes"
   ]
  },
  {
   "cell_type": "code",
   "execution_count": 57,
   "metadata": {},
   "outputs": [
    {
     "name": "stdout",
     "output_type": "stream",
     "text": [
      "All Good!\n"
     ]
    }
   ],
   "source": [
    "# import the required Python Libraries\n",
    "import requests\n",
    "import matplotlib.pyplot as plt\n",
    "import pandas as pd\n",
    "import warnings\n",
    "import geopandas as gpd\n",
    "warnings.filterwarnings('ignore')\n",
    "import ipywidgets as widgets\n",
    "from ipywidgets import interact, interactive, fixed, interact_manual\n",
    "import mapclassify\n",
    "import rtree\n",
    "print(\"All Good!\")\n"
   ]
  },
  {
   "cell_type": "markdown",
   "metadata": {},
   "source": [
    "The JSON file comprising of the Dock information from the DIVVY website comprises of data in Dictionary form. Prelimnary visual analysis for identification of data structure and types is being done below to organize the data in a pandas dataframe for easy analysis and processing."
   ]
  },
  {
   "cell_type": "code",
   "execution_count": 2,
   "metadata": {},
   "outputs": [],
   "source": [
    "# Loading the JSON file\n",
    "url = 'https://gbfs.divvybikes.com/gbfs/en/station_information.json'\n",
    "data = requests.get(url).json()\n",
    "\n",
    "#print(data)"
   ]
  },
  {
   "cell_type": "code",
   "execution_count": 3,
   "metadata": {},
   "outputs": [
    {
     "name": "stdout",
     "output_type": "stream",
     "text": [
      "<class 'dict'>\n"
     ]
    }
   ],
   "source": [
    "print(type(data))"
   ]
  },
  {
   "cell_type": "code",
   "execution_count": 4,
   "metadata": {},
   "outputs": [],
   "source": [
    "# Selecting the sub-classes of the Python dictionary using keys.\n",
    "data_list = data['data']['stations']"
   ]
  },
  {
   "cell_type": "code",
   "execution_count": 5,
   "metadata": {},
   "outputs": [],
   "source": [
    "# Convert the dictionary to Pandas Dataframe.\n",
    "df_full = pd.DataFrame(data_list)"
   ]
  },
  {
   "cell_type": "code",
   "execution_count": 6,
   "metadata": {},
   "outputs": [
    {
     "data": {
      "text/html": [
       "<div>\n",
       "<style scoped>\n",
       "    .dataframe tbody tr th:only-of-type {\n",
       "        vertical-align: middle;\n",
       "    }\n",
       "\n",
       "    .dataframe tbody tr th {\n",
       "        vertical-align: top;\n",
       "    }\n",
       "\n",
       "    .dataframe thead th {\n",
       "        text-align: right;\n",
       "    }\n",
       "</style>\n",
       "<table border=\"1\" class=\"dataframe\">\n",
       "  <thead>\n",
       "    <tr style=\"text-align: right;\">\n",
       "      <th></th>\n",
       "      <th>eightd_station_services</th>\n",
       "      <th>short_name</th>\n",
       "      <th>external_id</th>\n",
       "      <th>station_id</th>\n",
       "      <th>legacy_id</th>\n",
       "      <th>capacity</th>\n",
       "      <th>electric_bike_surcharge_waiver</th>\n",
       "      <th>station_type</th>\n",
       "      <th>lon</th>\n",
       "      <th>name</th>\n",
       "      <th>...</th>\n",
       "      <th>lat</th>\n",
       "      <th>rental_uris</th>\n",
       "      <th>rental_methods</th>\n",
       "      <th>eightd_has_key_dispenser</th>\n",
       "      <th>region_id</th>\n",
       "      <th>region_code</th>\n",
       "      <th>address</th>\n",
       "      <th>rack_model</th>\n",
       "      <th>dockless_bikes_parking_zone_capacity</th>\n",
       "      <th>client_station_id</th>\n",
       "    </tr>\n",
       "  </thead>\n",
       "  <tbody>\n",
       "    <tr>\n",
       "      <th>0</th>\n",
       "      <td>[]</td>\n",
       "      <td>15541</td>\n",
       "      <td>a3a36d9e-a135-11e9-9cda-0a87ae2ba916</td>\n",
       "      <td>2</td>\n",
       "      <td>2</td>\n",
       "      <td>39</td>\n",
       "      <td>False</td>\n",
       "      <td>classic</td>\n",
       "      <td>-87.620548</td>\n",
       "      <td>Buckingham Fountain</td>\n",
       "      <td>...</td>\n",
       "      <td>41.876511</td>\n",
       "      <td>{'android': 'https://chi.lft.to/lastmile_qr_sc...</td>\n",
       "      <td>[KEY, CREDITCARD, TRANSITCARD]</td>\n",
       "      <td>False</td>\n",
       "      <td>NaN</td>\n",
       "      <td>NaN</td>\n",
       "      <td>NaN</td>\n",
       "      <td>NaN</td>\n",
       "      <td>NaN</td>\n",
       "      <td>NaN</td>\n",
       "    </tr>\n",
       "    <tr>\n",
       "      <th>1</th>\n",
       "      <td>[]</td>\n",
       "      <td>15544</td>\n",
       "      <td>a3a37378-a135-11e9-9cda-0a87ae2ba916</td>\n",
       "      <td>3</td>\n",
       "      <td>3</td>\n",
       "      <td>55</td>\n",
       "      <td>False</td>\n",
       "      <td>classic</td>\n",
       "      <td>-87.615355</td>\n",
       "      <td>Shedd Aquarium</td>\n",
       "      <td>...</td>\n",
       "      <td>41.867226</td>\n",
       "      <td>{'android': 'https://chi.lft.to/lastmile_qr_sc...</td>\n",
       "      <td>[KEY, CREDITCARD, TRANSITCARD]</td>\n",
       "      <td>False</td>\n",
       "      <td>NaN</td>\n",
       "      <td>NaN</td>\n",
       "      <td>NaN</td>\n",
       "      <td>NaN</td>\n",
       "      <td>NaN</td>\n",
       "      <td>NaN</td>\n",
       "    </tr>\n",
       "    <tr>\n",
       "      <th>2</th>\n",
       "      <td>[]</td>\n",
       "      <td>15545</td>\n",
       "      <td>a3a378ca-a135-11e9-9cda-0a87ae2ba916</td>\n",
       "      <td>4</td>\n",
       "      <td>4</td>\n",
       "      <td>23</td>\n",
       "      <td>False</td>\n",
       "      <td>classic</td>\n",
       "      <td>-87.613348</td>\n",
       "      <td>Burnham Harbor</td>\n",
       "      <td>...</td>\n",
       "      <td>41.856268</td>\n",
       "      <td>{'android': 'https://chi.lft.to/lastmile_qr_sc...</td>\n",
       "      <td>[KEY, CREDITCARD, TRANSITCARD]</td>\n",
       "      <td>False</td>\n",
       "      <td>NaN</td>\n",
       "      <td>NaN</td>\n",
       "      <td>NaN</td>\n",
       "      <td>NaN</td>\n",
       "      <td>NaN</td>\n",
       "      <td>NaN</td>\n",
       "    </tr>\n",
       "    <tr>\n",
       "      <th>3</th>\n",
       "      <td>[]</td>\n",
       "      <td>SL-007</td>\n",
       "      <td>a3a37e26-a135-11e9-9cda-0a87ae2ba916</td>\n",
       "      <td>5</td>\n",
       "      <td>5</td>\n",
       "      <td>23</td>\n",
       "      <td>False</td>\n",
       "      <td>classic</td>\n",
       "      <td>-87.627716</td>\n",
       "      <td>State St &amp; Harrison St</td>\n",
       "      <td>...</td>\n",
       "      <td>41.874053</td>\n",
       "      <td>{'android': 'https://chi.lft.to/lastmile_qr_sc...</td>\n",
       "      <td>[KEY, CREDITCARD, TRANSITCARD]</td>\n",
       "      <td>False</td>\n",
       "      <td>NaN</td>\n",
       "      <td>NaN</td>\n",
       "      <td>NaN</td>\n",
       "      <td>NaN</td>\n",
       "      <td>NaN</td>\n",
       "      <td>NaN</td>\n",
       "    </tr>\n",
       "    <tr>\n",
       "      <th>4</th>\n",
       "      <td>[]</td>\n",
       "      <td>KA1503000064</td>\n",
       "      <td>a3a38363-a135-11e9-9cda-0a87ae2ba916</td>\n",
       "      <td>6</td>\n",
       "      <td>6</td>\n",
       "      <td>39</td>\n",
       "      <td>False</td>\n",
       "      <td>classic</td>\n",
       "      <td>-87.612813</td>\n",
       "      <td>Dusable Harbor</td>\n",
       "      <td>...</td>\n",
       "      <td>41.886976</td>\n",
       "      <td>{'android': 'https://chi.lft.to/lastmile_qr_sc...</td>\n",
       "      <td>[KEY, CREDITCARD, TRANSITCARD]</td>\n",
       "      <td>False</td>\n",
       "      <td>NaN</td>\n",
       "      <td>NaN</td>\n",
       "      <td>NaN</td>\n",
       "      <td>NaN</td>\n",
       "      <td>NaN</td>\n",
       "      <td>NaN</td>\n",
       "    </tr>\n",
       "  </tbody>\n",
       "</table>\n",
       "<p>5 rows × 21 columns</p>\n",
       "</div>"
      ],
      "text/plain": [
       "  eightd_station_services    short_name                           external_id  \\\n",
       "0                      []         15541  a3a36d9e-a135-11e9-9cda-0a87ae2ba916   \n",
       "1                      []         15544  a3a37378-a135-11e9-9cda-0a87ae2ba916   \n",
       "2                      []         15545  a3a378ca-a135-11e9-9cda-0a87ae2ba916   \n",
       "3                      []        SL-007  a3a37e26-a135-11e9-9cda-0a87ae2ba916   \n",
       "4                      []  KA1503000064  a3a38363-a135-11e9-9cda-0a87ae2ba916   \n",
       "\n",
       "  station_id legacy_id  capacity  electric_bike_surcharge_waiver station_type  \\\n",
       "0          2         2        39                           False      classic   \n",
       "1          3         3        55                           False      classic   \n",
       "2          4         4        23                           False      classic   \n",
       "3          5         5        23                           False      classic   \n",
       "4          6         6        39                           False      classic   \n",
       "\n",
       "         lon                    name  ...        lat  \\\n",
       "0 -87.620548     Buckingham Fountain  ...  41.876511   \n",
       "1 -87.615355          Shedd Aquarium  ...  41.867226   \n",
       "2 -87.613348          Burnham Harbor  ...  41.856268   \n",
       "3 -87.627716  State St & Harrison St  ...  41.874053   \n",
       "4 -87.612813          Dusable Harbor  ...  41.886976   \n",
       "\n",
       "                                         rental_uris  \\\n",
       "0  {'android': 'https://chi.lft.to/lastmile_qr_sc...   \n",
       "1  {'android': 'https://chi.lft.to/lastmile_qr_sc...   \n",
       "2  {'android': 'https://chi.lft.to/lastmile_qr_sc...   \n",
       "3  {'android': 'https://chi.lft.to/lastmile_qr_sc...   \n",
       "4  {'android': 'https://chi.lft.to/lastmile_qr_sc...   \n",
       "\n",
       "                   rental_methods eightd_has_key_dispenser  region_id  \\\n",
       "0  [KEY, CREDITCARD, TRANSITCARD]                    False        NaN   \n",
       "1  [KEY, CREDITCARD, TRANSITCARD]                    False        NaN   \n",
       "2  [KEY, CREDITCARD, TRANSITCARD]                    False        NaN   \n",
       "3  [KEY, CREDITCARD, TRANSITCARD]                    False        NaN   \n",
       "4  [KEY, CREDITCARD, TRANSITCARD]                    False        NaN   \n",
       "\n",
       "  region_code address rack_model dockless_bikes_parking_zone_capacity  \\\n",
       "0         NaN     NaN        NaN                                  NaN   \n",
       "1         NaN     NaN        NaN                                  NaN   \n",
       "2         NaN     NaN        NaN                                  NaN   \n",
       "3         NaN     NaN        NaN                                  NaN   \n",
       "4         NaN     NaN        NaN                                  NaN   \n",
       "\n",
       "   client_station_id  \n",
       "0                NaN  \n",
       "1                NaN  \n",
       "2                NaN  \n",
       "3                NaN  \n",
       "4                NaN  \n",
       "\n",
       "[5 rows x 21 columns]"
      ]
     },
     "execution_count": 6,
     "metadata": {},
     "output_type": "execute_result"
    }
   ],
   "source": [
    "# Dataframe for complete dataset including unwanted columns.\n",
    "df_full.head(5)"
   ]
  },
  {
   "cell_type": "code",
   "execution_count": 7,
   "metadata": {},
   "outputs": [],
   "source": [
    "#New Dataframe comprising of only desired columns. Being stored as df.\n",
    "df = df_full[['station_id', 'name', 'capacity', 'lat', 'lon']]"
   ]
  },
  {
   "cell_type": "code",
   "execution_count": 8,
   "metadata": {},
   "outputs": [
    {
     "data": {
      "text/html": [
       "<div>\n",
       "<style scoped>\n",
       "    .dataframe tbody tr th:only-of-type {\n",
       "        vertical-align: middle;\n",
       "    }\n",
       "\n",
       "    .dataframe tbody tr th {\n",
       "        vertical-align: top;\n",
       "    }\n",
       "\n",
       "    .dataframe thead th {\n",
       "        text-align: right;\n",
       "    }\n",
       "</style>\n",
       "<table border=\"1\" class=\"dataframe\">\n",
       "  <thead>\n",
       "    <tr style=\"text-align: right;\">\n",
       "      <th></th>\n",
       "      <th>station_id</th>\n",
       "      <th>name</th>\n",
       "      <th>capacity</th>\n",
       "      <th>lat</th>\n",
       "      <th>lon</th>\n",
       "    </tr>\n",
       "  </thead>\n",
       "  <tbody>\n",
       "    <tr>\n",
       "      <th>0</th>\n",
       "      <td>2</td>\n",
       "      <td>Buckingham Fountain</td>\n",
       "      <td>39</td>\n",
       "      <td>41.876511</td>\n",
       "      <td>-87.620548</td>\n",
       "    </tr>\n",
       "    <tr>\n",
       "      <th>1</th>\n",
       "      <td>3</td>\n",
       "      <td>Shedd Aquarium</td>\n",
       "      <td>55</td>\n",
       "      <td>41.867226</td>\n",
       "      <td>-87.615355</td>\n",
       "    </tr>\n",
       "    <tr>\n",
       "      <th>2</th>\n",
       "      <td>4</td>\n",
       "      <td>Burnham Harbor</td>\n",
       "      <td>23</td>\n",
       "      <td>41.856268</td>\n",
       "      <td>-87.613348</td>\n",
       "    </tr>\n",
       "    <tr>\n",
       "      <th>3</th>\n",
       "      <td>5</td>\n",
       "      <td>State St &amp; Harrison St</td>\n",
       "      <td>23</td>\n",
       "      <td>41.874053</td>\n",
       "      <td>-87.627716</td>\n",
       "    </tr>\n",
       "    <tr>\n",
       "      <th>4</th>\n",
       "      <td>6</td>\n",
       "      <td>Dusable Harbor</td>\n",
       "      <td>39</td>\n",
       "      <td>41.886976</td>\n",
       "      <td>-87.612813</td>\n",
       "    </tr>\n",
       "  </tbody>\n",
       "</table>\n",
       "</div>"
      ],
      "text/plain": [
       "  station_id                    name  capacity        lat        lon\n",
       "0          2     Buckingham Fountain        39  41.876511 -87.620548\n",
       "1          3          Shedd Aquarium        55  41.867226 -87.615355\n",
       "2          4          Burnham Harbor        23  41.856268 -87.613348\n",
       "3          5  State St & Harrison St        23  41.874053 -87.627716\n",
       "4          6          Dusable Harbor        39  41.886976 -87.612813"
      ]
     },
     "execution_count": 8,
     "metadata": {},
     "output_type": "execute_result"
    }
   ],
   "source": [
    "#Checking the new dataframe structure.\n",
    "df.head()"
   ]
  },
  {
   "cell_type": "code",
   "execution_count": 9,
   "metadata": {},
   "outputs": [
    {
     "name": "stdout",
     "output_type": "stream",
     "text": [
      "<class 'pandas.core.frame.DataFrame'>\n",
      "RangeIndex: 689 entries, 0 to 688\n",
      "Data columns (total 5 columns):\n",
      " #   Column      Non-Null Count  Dtype  \n",
      "---  ------      --------------  -----  \n",
      " 0   station_id  689 non-null    object \n",
      " 1   name        689 non-null    object \n",
      " 2   capacity    689 non-null    int64  \n",
      " 3   lat         689 non-null    float64\n",
      " 4   lon         689 non-null    float64\n",
      "dtypes: float64(2), int64(1), object(2)\n",
      "memory usage: 27.0+ KB\n"
     ]
    }
   ],
   "source": [
    "# verifying for any NULL or NaN values.\n",
    "df.info()"
   ]
  },
  {
   "cell_type": "code",
   "execution_count": 10,
   "metadata": {},
   "outputs": [],
   "source": [
    "# Extracting the lat, lon from the dataframe to form the Geometry\n",
    "\n",
    "from shapely.geometry import Point\n",
    "\n",
    "# combine lat and lon column to a shapely Point() object\n",
    "df['Geometry'] = df.apply(lambda x: Point((float(x.lon), float(x.lat))), axis=1)"
   ]
  },
  {
   "cell_type": "code",
   "execution_count": 11,
   "metadata": {},
   "outputs": [],
   "source": [
    "# Loading the dataframe into geopandas along with the Geometry\n",
    "df_shape = gpd.GeoDataFrame(df, geometry='Geometry')\n",
    "\n",
    "# Inititalizing the Coordinate System to WGS 84 using identifier 4326\n",
    "df_shape.crs = {'init' :'epsg:4326'}"
   ]
  },
  {
   "cell_type": "code",
   "execution_count": 12,
   "metadata": {},
   "outputs": [],
   "source": [
    "# Exporting the geopandas dataframe as Shapefile.\n",
    "df_shape.to_file('divvy_stations.shp', driver='ESRI Shapefile')"
   ]
  },
  {
   "cell_type": "code",
   "execution_count": 13,
   "metadata": {},
   "outputs": [
    {
     "data": {
      "image/png": "[encoded data removed]",
      "text/plain": [
       "<Figure size 1080x720 with 1 Axes>"
      ]
     },
     "metadata": {
      "needs_background": "light"
     },
     "output_type": "display_data"
    }
   ],
   "source": [
    "# Visualizing the exported Shapefile using geopandas.\n",
    "\n",
    "gdf = gpd.read_file('divvy_stations.shp')\n",
    "\n",
    "%matplotlib inline\n",
    "fig, ax = plt.subplots(figsize=(15,10))\n",
    "\n",
    "gdf.plot(\n",
    "    column='capacity', ax=ax, legend=True,  scheme='quantiles', cmap='OrRd')\n",
    "plt.title(('DIVVY Station Capacity Across Chicago, IL'), color ='black', fontsize='15');"
   ]
  },
  {
   "cell_type": "markdown",
   "metadata": {},
   "source": [
    "#### For this assignment we will directly import the desired shapefiles into Python environment from the provided zip file ie Datasets.zip"
   ]
  },
  {
   "cell_type": "code",
   "execution_count": 14,
   "metadata": {},
   "outputs": [],
   "source": [
    "# Importing the Shapefiles using Geopandas.\n",
    "\n",
    "CCA = gpd.read_file('zip://Datasets.zip!Datasets/ChicagoCommunityAreas.shp')\n",
    "CCB= gpd.read_file('zip://Datasets.zip!Datasets/CensusBlocks_Population2010.shp')\n",
    "DIVVY_ST = gpd.read_file('divvy_stations.shp')"
   ]
  },
  {
   "cell_type": "code",
   "execution_count": 15,
   "metadata": {},
   "outputs": [
    {
     "data": {
      "text/html": [
       "<div>\n",
       "<style scoped>\n",
       "    .dataframe tbody tr th:only-of-type {\n",
       "        vertical-align: middle;\n",
       "    }\n",
       "\n",
       "    .dataframe tbody tr th {\n",
       "        vertical-align: top;\n",
       "    }\n",
       "\n",
       "    .dataframe thead th {\n",
       "        text-align: right;\n",
       "    }\n",
       "</style>\n",
       "<table border=\"1\" class=\"dataframe\">\n",
       "  <thead>\n",
       "    <tr style=\"text-align: right;\">\n",
       "      <th></th>\n",
       "      <th>COMMUNITY</th>\n",
       "      <th>CCA_NUM</th>\n",
       "      <th>geometry</th>\n",
       "    </tr>\n",
       "  </thead>\n",
       "  <tbody>\n",
       "    <tr>\n",
       "      <th>0</th>\n",
       "      <td>DOUGLAS</td>\n",
       "      <td>35</td>\n",
       "      <td>POLYGON ((1181573.250 1886828.040, 1181571.200...</td>\n",
       "    </tr>\n",
       "    <tr>\n",
       "      <th>1</th>\n",
       "      <td>OAKLAND</td>\n",
       "      <td>36</td>\n",
       "      <td>POLYGON ((1186289.356 1876750.733, 1186247.037...</td>\n",
       "    </tr>\n",
       "    <tr>\n",
       "      <th>2</th>\n",
       "      <td>FULLER PARK</td>\n",
       "      <td>37</td>\n",
       "      <td>POLYGON ((1176344.998 1871187.546, 1176346.500...</td>\n",
       "    </tr>\n",
       "    <tr>\n",
       "      <th>3</th>\n",
       "      <td>GRAND BOULEVARD</td>\n",
       "      <td>38</td>\n",
       "      <td>POLYGON ((1182322.043 1876674.731, 1182323.670...</td>\n",
       "    </tr>\n",
       "    <tr>\n",
       "      <th>4</th>\n",
       "      <td>KENWOOD</td>\n",
       "      <td>39</td>\n",
       "      <td>POLYGON ((1186289.356 1876750.733, 1186290.775...</td>\n",
       "    </tr>\n",
       "  </tbody>\n",
       "</table>\n",
       "</div>"
      ],
      "text/plain": [
       "         COMMUNITY  CCA_NUM                                           geometry\n",
       "0          DOUGLAS       35  POLYGON ((1181573.250 1886828.040, 1181571.200...\n",
       "1          OAKLAND       36  POLYGON ((1186289.356 1876750.733, 1186247.037...\n",
       "2      FULLER PARK       37  POLYGON ((1176344.998 1871187.546, 1176346.500...\n",
       "3  GRAND BOULEVARD       38  POLYGON ((1182322.043 1876674.731, 1182323.670...\n",
       "4          KENWOOD       39  POLYGON ((1186289.356 1876750.733, 1186290.775..."
      ]
     },
     "execution_count": 15,
     "metadata": {},
     "output_type": "execute_result"
    }
   ],
   "source": [
    "# Verifying the Attributes of the ChicagoCommunityAreas using GeoPandas dataframe.\n",
    "CCA.head(5)"
   ]
  },
  {
   "cell_type": "code",
   "execution_count": 16,
   "metadata": {},
   "outputs": [
    {
     "data": {
      "text/html": [
       "<div>\n",
       "<style scoped>\n",
       "    .dataframe tbody tr th:only-of-type {\n",
       "        vertical-align: middle;\n",
       "    }\n",
       "\n",
       "    .dataframe tbody tr th {\n",
       "        vertical-align: top;\n",
       "    }\n",
       "\n",
       "    .dataframe thead th {\n",
       "        text-align: right;\n",
       "    }\n",
       "</style>\n",
       "<table border=\"1\" class=\"dataframe\">\n",
       "  <thead>\n",
       "    <tr style=\"text-align: right;\">\n",
       "      <th></th>\n",
       "      <th>GEOID10</th>\n",
       "      <th>POP2010</th>\n",
       "      <th>geometry</th>\n",
       "    </tr>\n",
       "  </thead>\n",
       "  <tbody>\n",
       "    <tr>\n",
       "      <th>0</th>\n",
       "      <td>170315705001020</td>\n",
       "      <td>69.0</td>\n",
       "      <td>POLYGON ((1148076.782 1869778.337, 1147976.725...</td>\n",
       "    </tr>\n",
       "    <tr>\n",
       "      <th>1</th>\n",
       "      <td>170315608002002</td>\n",
       "      <td>43.0</td>\n",
       "      <td>POLYGON ((1138079.470 1869525.837, 1138066.815...</td>\n",
       "    </tr>\n",
       "    <tr>\n",
       "      <th>2</th>\n",
       "      <td>170317402004007</td>\n",
       "      <td>155.0</td>\n",
       "      <td>POLYGON ((1154529.159 1834768.487, 1154463.087...</td>\n",
       "    </tr>\n",
       "    <tr>\n",
       "      <th>3</th>\n",
       "      <td>170317402004011</td>\n",
       "      <td>28.0</td>\n",
       "      <td>POLYGON ((1153489.207 1835909.589, 1153655.750...</td>\n",
       "    </tr>\n",
       "    <tr>\n",
       "      <th>4</th>\n",
       "      <td>170317503003008</td>\n",
       "      <td>38.0</td>\n",
       "      <td>POLYGON ((1160483.736 1832244.372, 1160478.782...</td>\n",
       "    </tr>\n",
       "  </tbody>\n",
       "</table>\n",
       "</div>"
      ],
      "text/plain": [
       "           GEOID10  POP2010                                           geometry\n",
       "0  170315705001020     69.0  POLYGON ((1148076.782 1869778.337, 1147976.725...\n",
       "1  170315608002002     43.0  POLYGON ((1138079.470 1869525.837, 1138066.815...\n",
       "2  170317402004007    155.0  POLYGON ((1154529.159 1834768.487, 1154463.087...\n",
       "3  170317402004011     28.0  POLYGON ((1153489.207 1835909.589, 1153655.750...\n",
       "4  170317503003008     38.0  POLYGON ((1160483.736 1832244.372, 1160478.782..."
      ]
     },
     "execution_count": 16,
     "metadata": {},
     "output_type": "execute_result"
    }
   ],
   "source": [
    "# Verifying the Attributes of the CensusBlocks_Population2010 using GeoPandas dataframe.\n",
    "CCB.head(5)"
   ]
  },
  {
   "cell_type": "code",
   "execution_count": 17,
   "metadata": {
    "scrolled": true
   },
   "outputs": [
    {
     "data": {
      "text/plain": [
       "(<Projected CRS: EPSG:3435>\n",
       " Name: NAD83 / Illinois East (ftUS)\n",
       " Axis Info [cartesian]:\n",
       " - X[east]: Easting (US survey foot)\n",
       " - Y[north]: Northing (US survey foot)\n",
       " Area of Use:\n",
       " - name: USA - Illinois - SPCS - E\n",
       " - bounds: (-89.28, 37.06, -87.02, 42.5)\n",
       " Coordinate Operation:\n",
       " - name: SPCS83 Illinois East zone (US Survey feet)\n",
       " - method: Transverse Mercator\n",
       " Datum: North American Datum 1983\n",
       " - Ellipsoid: GRS 1980\n",
       " - Prime Meridian: Greenwich,\n",
       " <Projected CRS: EPSG:3435>\n",
       " Name: NAD83 / Illinois East (ftUS)\n",
       " Axis Info [cartesian]:\n",
       " - X[east]: Easting (US survey foot)\n",
       " - Y[north]: Northing (US survey foot)\n",
       " Area of Use:\n",
       " - name: USA - Illinois - SPCS - E\n",
       " - bounds: (-89.28, 37.06, -87.02, 42.5)\n",
       " Coordinate Operation:\n",
       " - name: SPCS83 Illinois East zone (US Survey feet)\n",
       " - method: Transverse Mercator\n",
       " Datum: North American Datum 1983\n",
       " - Ellipsoid: GRS 1980\n",
       " - Prime Meridian: Greenwich)"
      ]
     },
     "execution_count": 17,
     "metadata": {},
     "output_type": "execute_result"
    }
   ],
   "source": [
    "# Checking the Cordinate System for the two shapefiles.\n",
    "CCA.crs, CCB.crs\n",
    "\n",
    "# these are different from the Divvy Dock file we prepared previously (epsg 4326)"
   ]
  },
  {
   "cell_type": "code",
   "execution_count": 18,
   "metadata": {
    "scrolled": true
   },
   "outputs": [
    {
     "data": {
      "text/plain": [
       "(<Geographic 2D CRS: +init=epsg:4326 +type=crs>\n",
       " Name: WGS 84\n",
       " Axis Info [ellipsoidal]:\n",
       " - lon[east]: Longitude (degree)\n",
       " - lat[north]: Latitude (degree)\n",
       " Area of Use:\n",
       " - name: World\n",
       " - bounds: (-180.0, -90.0, 180.0, 90.0)\n",
       " Datum: World Geodetic System 1984\n",
       " - Ellipsoid: WGS 84\n",
       " - Prime Meridian: Greenwich,\n",
       " <Geographic 2D CRS: +init=epsg:4326 +type=crs>\n",
       " Name: WGS 84\n",
       " Axis Info [ellipsoidal]:\n",
       " - lon[east]: Longitude (degree)\n",
       " - lat[north]: Latitude (degree)\n",
       " Area of Use:\n",
       " - name: World\n",
       " - bounds: (-180.0, -90.0, 180.0, 90.0)\n",
       " Datum: World Geodetic System 1984\n",
       " - Ellipsoid: WGS 84\n",
       " - Prime Meridian: Greenwich,\n",
       " <Geographic 2D CRS: +init=epsg:4326 +type=crs>\n",
       " Name: WGS 84\n",
       " Axis Info [ellipsoidal]:\n",
       " - lon[east]: Longitude (degree)\n",
       " - lat[north]: Latitude (degree)\n",
       " Area of Use:\n",
       " - name: World\n",
       " - bounds: (-180.0, -90.0, 180.0, 90.0)\n",
       " Datum: World Geodetic System 1984\n",
       " - Ellipsoid: WGS 84\n",
       " - Prime Meridian: Greenwich)"
      ]
     },
     "execution_count": 18,
     "metadata": {},
     "output_type": "execute_result"
    }
   ],
   "source": [
    "# Re-projecting coordinate reference systems of the dataframes to epsg:4326 (WGS94)\n",
    "CCA=CCA.to_crs({'init':'epsg:4326'})\n",
    "CCB= CCB.to_crs({'init':'epsg:4326'})\n",
    "DIVVY_ST = DIVVY_ST.to_crs({'init':'epsg:4326'}) # not needed though\n",
    "CCA.crs, CCB.crs, DIVVY_ST.crs"
   ]
  },
  {
   "cell_type": "markdown",
   "metadata": {},
   "source": [
    "### We now have all our data loaded into python environment and all coordinate reference systems set up for any spatial analysis to be done correctly.\n",
    "\n",
    "First we will calculate the total population for each of the Chicago Community Area using the Spatial Join feature of GeoPandas library."
   ]
  },
  {
   "cell_type": "code",
   "execution_count": 19,
   "metadata": {},
   "outputs": [],
   "source": [
    "#get a spatial join of ccb and cca for population cstatistics\n",
    "\n",
    "CCA_CB=gpd.sjoin(CCA, CCB, how='left', op='contains')"
   ]
  },
  {
   "cell_type": "code",
   "execution_count": 20,
   "metadata": {},
   "outputs": [
    {
     "data": {
      "text/plain": [
       "((77, 3), (46324, 3), (41339, 6))"
      ]
     },
     "execution_count": 20,
     "metadata": {},
     "output_type": "execute_result"
    }
   ],
   "source": [
    "CCA.shape,CCB.shape, CCA_CB.shape"
   ]
  },
  {
   "cell_type": "code",
   "execution_count": 21,
   "metadata": {},
   "outputs": [
    {
     "data": {
      "text/html": [
       "<div>\n",
       "<style scoped>\n",
       "    .dataframe tbody tr th:only-of-type {\n",
       "        vertical-align: middle;\n",
       "    }\n",
       "\n",
       "    .dataframe tbody tr th {\n",
       "        vertical-align: top;\n",
       "    }\n",
       "\n",
       "    .dataframe thead th {\n",
       "        text-align: right;\n",
       "    }\n",
       "</style>\n",
       "<table border=\"1\" class=\"dataframe\">\n",
       "  <thead>\n",
       "    <tr style=\"text-align: right;\">\n",
       "      <th></th>\n",
       "      <th>COMMUNITY</th>\n",
       "      <th>CCA_NUM</th>\n",
       "      <th>geometry</th>\n",
       "      <th>index_right</th>\n",
       "      <th>GEOID10</th>\n",
       "      <th>POP2010</th>\n",
       "    </tr>\n",
       "  </thead>\n",
       "  <tbody>\n",
       "    <tr>\n",
       "      <th>0</th>\n",
       "      <td>DOUGLAS</td>\n",
       "      <td>35</td>\n",
       "      <td>POLYGON ((-87.60914 41.84469, -87.60915 41.844...</td>\n",
       "      <td>44058</td>\n",
       "      <td>170318420002000</td>\n",
       "      <td>141.0</td>\n",
       "    </tr>\n",
       "    <tr>\n",
       "      <th>0</th>\n",
       "      <td>DOUGLAS</td>\n",
       "      <td>35</td>\n",
       "      <td>POLYGON ((-87.60914 41.84469, -87.60915 41.844...</td>\n",
       "      <td>1170</td>\n",
       "      <td>170318420001006</td>\n",
       "      <td>93.0</td>\n",
       "    </tr>\n",
       "    <tr>\n",
       "      <th>0</th>\n",
       "      <td>DOUGLAS</td>\n",
       "      <td>35</td>\n",
       "      <td>POLYGON ((-87.60914 41.84469, -87.60915 41.844...</td>\n",
       "      <td>28762</td>\n",
       "      <td>170318420001005</td>\n",
       "      <td>78.0</td>\n",
       "    </tr>\n",
       "    <tr>\n",
       "      <th>0</th>\n",
       "      <td>DOUGLAS</td>\n",
       "      <td>35</td>\n",
       "      <td>POLYGON ((-87.60914 41.84469, -87.60915 41.844...</td>\n",
       "      <td>39733</td>\n",
       "      <td>170318420001002</td>\n",
       "      <td>39.0</td>\n",
       "    </tr>\n",
       "    <tr>\n",
       "      <th>0</th>\n",
       "      <td>DOUGLAS</td>\n",
       "      <td>35</td>\n",
       "      <td>POLYGON ((-87.60914 41.84469, -87.60915 41.844...</td>\n",
       "      <td>30467</td>\n",
       "      <td>170318420001001</td>\n",
       "      <td>47.0</td>\n",
       "    </tr>\n",
       "    <tr>\n",
       "      <th>0</th>\n",
       "      <td>DOUGLAS</td>\n",
       "      <td>35</td>\n",
       "      <td>POLYGON ((-87.60914 41.84469, -87.60915 41.844...</td>\n",
       "      <td>39734</td>\n",
       "      <td>170318420001000</td>\n",
       "      <td>33.0</td>\n",
       "    </tr>\n",
       "    <tr>\n",
       "      <th>0</th>\n",
       "      <td>DOUGLAS</td>\n",
       "      <td>35</td>\n",
       "      <td>POLYGON ((-87.60914 41.84469, -87.60915 41.844...</td>\n",
       "      <td>16872</td>\n",
       "      <td>170318395001001</td>\n",
       "      <td>95.0</td>\n",
       "    </tr>\n",
       "    <tr>\n",
       "      <th>0</th>\n",
       "      <td>DOUGLAS</td>\n",
       "      <td>35</td>\n",
       "      <td>POLYGON ((-87.60914 41.84469, -87.60915 41.844...</td>\n",
       "      <td>14986</td>\n",
       "      <td>170318395001000</td>\n",
       "      <td>0.0</td>\n",
       "    </tr>\n",
       "    <tr>\n",
       "      <th>0</th>\n",
       "      <td>DOUGLAS</td>\n",
       "      <td>35</td>\n",
       "      <td>POLYGON ((-87.60914 41.84469, -87.60915 41.844...</td>\n",
       "      <td>36334</td>\n",
       "      <td>170313510003003</td>\n",
       "      <td>0.0</td>\n",
       "    </tr>\n",
       "    <tr>\n",
       "      <th>0</th>\n",
       "      <td>DOUGLAS</td>\n",
       "      <td>35</td>\n",
       "      <td>POLYGON ((-87.60914 41.84469, -87.60915 41.844...</td>\n",
       "      <td>34810</td>\n",
       "      <td>170318420001004</td>\n",
       "      <td>23.0</td>\n",
       "    </tr>\n",
       "  </tbody>\n",
       "</table>\n",
       "</div>"
      ],
      "text/plain": [
       "  COMMUNITY  CCA_NUM                                           geometry  \\\n",
       "0   DOUGLAS       35  POLYGON ((-87.60914 41.84469, -87.60915 41.844...   \n",
       "0   DOUGLAS       35  POLYGON ((-87.60914 41.84469, -87.60915 41.844...   \n",
       "0   DOUGLAS       35  POLYGON ((-87.60914 41.84469, -87.60915 41.844...   \n",
       "0   DOUGLAS       35  POLYGON ((-87.60914 41.84469, -87.60915 41.844...   \n",
       "0   DOUGLAS       35  POLYGON ((-87.60914 41.84469, -87.60915 41.844...   \n",
       "0   DOUGLAS       35  POLYGON ((-87.60914 41.84469, -87.60915 41.844...   \n",
       "0   DOUGLAS       35  POLYGON ((-87.60914 41.84469, -87.60915 41.844...   \n",
       "0   DOUGLAS       35  POLYGON ((-87.60914 41.84469, -87.60915 41.844...   \n",
       "0   DOUGLAS       35  POLYGON ((-87.60914 41.84469, -87.60915 41.844...   \n",
       "0   DOUGLAS       35  POLYGON ((-87.60914 41.84469, -87.60915 41.844...   \n",
       "\n",
       "   index_right          GEOID10  POP2010  \n",
       "0        44058  170318420002000    141.0  \n",
       "0         1170  170318420001006     93.0  \n",
       "0        28762  170318420001005     78.0  \n",
       "0        39733  170318420001002     39.0  \n",
       "0        30467  170318420001001     47.0  \n",
       "0        39734  170318420001000     33.0  \n",
       "0        16872  170318395001001     95.0  \n",
       "0        14986  170318395001000      0.0  \n",
       "0        36334  170313510003003      0.0  \n",
       "0        34810  170318420001004     23.0  "
      ]
     },
     "execution_count": 21,
     "metadata": {},
     "output_type": "execute_result"
    }
   ],
   "source": [
    "# Census tracts now have a defined Community Name and Community Number.\n",
    "CCA_CB.head(10)"
   ]
  },
  {
   "cell_type": "markdown",
   "metadata": {},
   "source": [
    "Using the above dataframe we will regroup the data and aggregare on the POP2010 column for each Community Number and Community name."
   ]
  },
  {
   "cell_type": "code",
   "execution_count": 22,
   "metadata": {},
   "outputs": [],
   "source": [
    "CCA_pop=CCA_CB.groupby(['CCA_NUM','COMMUNITY']).agg({'POP2010': 'sum'}).reset_index() "
   ]
  },
  {
   "cell_type": "code",
   "execution_count": 23,
   "metadata": {},
   "outputs": [
    {
     "data": {
      "text/html": [
       "<div>\n",
       "<style scoped>\n",
       "    .dataframe tbody tr th:only-of-type {\n",
       "        vertical-align: middle;\n",
       "    }\n",
       "\n",
       "    .dataframe tbody tr th {\n",
       "        vertical-align: top;\n",
       "    }\n",
       "\n",
       "    .dataframe thead th {\n",
       "        text-align: right;\n",
       "    }\n",
       "</style>\n",
       "<table border=\"1\" class=\"dataframe\">\n",
       "  <thead>\n",
       "    <tr style=\"text-align: right;\">\n",
       "      <th></th>\n",
       "      <th>CCA_NUM</th>\n",
       "      <th>COMMUNITY</th>\n",
       "      <th>POP2010</th>\n",
       "    </tr>\n",
       "  </thead>\n",
       "  <tbody>\n",
       "    <tr>\n",
       "      <th>0</th>\n",
       "      <td>1</td>\n",
       "      <td>ROGERS PARK</td>\n",
       "      <td>48106.0</td>\n",
       "    </tr>\n",
       "    <tr>\n",
       "      <th>1</th>\n",
       "      <td>2</td>\n",
       "      <td>WEST RIDGE</td>\n",
       "      <td>66617.0</td>\n",
       "    </tr>\n",
       "    <tr>\n",
       "      <th>2</th>\n",
       "      <td>3</td>\n",
       "      <td>UPTOWN</td>\n",
       "      <td>51776.0</td>\n",
       "    </tr>\n",
       "    <tr>\n",
       "      <th>3</th>\n",
       "      <td>4</td>\n",
       "      <td>LINCOLN SQUARE</td>\n",
       "      <td>36612.0</td>\n",
       "    </tr>\n",
       "    <tr>\n",
       "      <th>4</th>\n",
       "      <td>5</td>\n",
       "      <td>NORTH CENTER</td>\n",
       "      <td>29145.0</td>\n",
       "    </tr>\n",
       "  </tbody>\n",
       "</table>\n",
       "</div>"
      ],
      "text/plain": [
       "   CCA_NUM       COMMUNITY  POP2010\n",
       "0        1     ROGERS PARK  48106.0\n",
       "1        2      WEST RIDGE  66617.0\n",
       "2        3          UPTOWN  51776.0\n",
       "3        4  LINCOLN SQUARE  36612.0\n",
       "4        5    NORTH CENTER  29145.0"
      ]
     },
     "execution_count": 23,
     "metadata": {},
     "output_type": "execute_result"
    }
   ],
   "source": [
    "CCA_pop.head()"
   ]
  },
  {
   "cell_type": "code",
   "execution_count": 24,
   "metadata": {},
   "outputs": [
    {
     "name": "stdout",
     "output_type": "stream",
     "text": [
      "<class 'pandas.core.frame.DataFrame'>\n",
      "RangeIndex: 77 entries, 0 to 76\n",
      "Data columns (total 3 columns):\n",
      " #   Column     Non-Null Count  Dtype  \n",
      "---  ------     --------------  -----  \n",
      " 0   CCA_NUM    77 non-null     int64  \n",
      " 1   COMMUNITY  77 non-null     object \n",
      " 2   POP2010    77 non-null     float64\n",
      "dtypes: float64(1), int64(1), object(1)\n",
      "memory usage: 1.9+ KB\n"
     ]
    }
   ],
   "source": [
    "# Check the meta data for the data. Check for any None Values as possible errors.\n",
    "CCA_pop.info()"
   ]
  },
  {
   "cell_type": "code",
   "execution_count": 25,
   "metadata": {},
   "outputs": [
    {
     "data": {
      "text/html": [
       "<div>\n",
       "<style scoped>\n",
       "    .dataframe tbody tr th:only-of-type {\n",
       "        vertical-align: middle;\n",
       "    }\n",
       "\n",
       "    .dataframe tbody tr th {\n",
       "        vertical-align: top;\n",
       "    }\n",
       "\n",
       "    .dataframe thead th {\n",
       "        text-align: right;\n",
       "    }\n",
       "</style>\n",
       "<table border=\"1\" class=\"dataframe\">\n",
       "  <thead>\n",
       "    <tr style=\"text-align: right;\">\n",
       "      <th></th>\n",
       "      <th>station_id</th>\n",
       "      <th>name</th>\n",
       "      <th>capacity</th>\n",
       "      <th>lat</th>\n",
       "      <th>lon</th>\n",
       "      <th>geometry</th>\n",
       "    </tr>\n",
       "  </thead>\n",
       "  <tbody>\n",
       "    <tr>\n",
       "      <th>0</th>\n",
       "      <td>2</td>\n",
       "      <td>Buckingham Fountain</td>\n",
       "      <td>39</td>\n",
       "      <td>41.876511</td>\n",
       "      <td>-87.620548</td>\n",
       "      <td>POINT (-87.62055 41.87651)</td>\n",
       "    </tr>\n",
       "    <tr>\n",
       "      <th>1</th>\n",
       "      <td>3</td>\n",
       "      <td>Shedd Aquarium</td>\n",
       "      <td>55</td>\n",
       "      <td>41.867226</td>\n",
       "      <td>-87.615355</td>\n",
       "      <td>POINT (-87.61536 41.86723)</td>\n",
       "    </tr>\n",
       "    <tr>\n",
       "      <th>2</th>\n",
       "      <td>4</td>\n",
       "      <td>Burnham Harbor</td>\n",
       "      <td>23</td>\n",
       "      <td>41.856268</td>\n",
       "      <td>-87.613348</td>\n",
       "      <td>POINT (-87.61335 41.85627)</td>\n",
       "    </tr>\n",
       "    <tr>\n",
       "      <th>3</th>\n",
       "      <td>5</td>\n",
       "      <td>State St &amp; Harrison St</td>\n",
       "      <td>23</td>\n",
       "      <td>41.874053</td>\n",
       "      <td>-87.627716</td>\n",
       "      <td>POINT (-87.62772 41.87405)</td>\n",
       "    </tr>\n",
       "    <tr>\n",
       "      <th>4</th>\n",
       "      <td>6</td>\n",
       "      <td>Dusable Harbor</td>\n",
       "      <td>39</td>\n",
       "      <td>41.886976</td>\n",
       "      <td>-87.612813</td>\n",
       "      <td>POINT (-87.61281 41.88698)</td>\n",
       "    </tr>\n",
       "  </tbody>\n",
       "</table>\n",
       "</div>"
      ],
      "text/plain": [
       "  station_id                    name  capacity        lat        lon  \\\n",
       "0          2     Buckingham Fountain        39  41.876511 -87.620548   \n",
       "1          3          Shedd Aquarium        55  41.867226 -87.615355   \n",
       "2          4          Burnham Harbor        23  41.856268 -87.613348   \n",
       "3          5  State St & Harrison St        23  41.874053 -87.627716   \n",
       "4          6          Dusable Harbor        39  41.886976 -87.612813   \n",
       "\n",
       "                     geometry  \n",
       "0  POINT (-87.62055 41.87651)  \n",
       "1  POINT (-87.61536 41.86723)  \n",
       "2  POINT (-87.61335 41.85627)  \n",
       "3  POINT (-87.62772 41.87405)  \n",
       "4  POINT (-87.61281 41.88698)  "
      ]
     },
     "execution_count": 25,
     "metadata": {},
     "output_type": "execute_result"
    }
   ],
   "source": [
    "# Lets take a look at out DIVVY dataframe from the shapefile we exported.\n",
    "DIVVY_ST.head()"
   ]
  },
  {
   "cell_type": "markdown",
   "metadata": {},
   "source": [
    "We would need to do a second Spatial Join for the CCA_Pop dataframe that includes total population counts for each Community and the DIVVY_ST dataframe which has the individual dock location and information."
   ]
  },
  {
   "cell_type": "code",
   "execution_count": 26,
   "metadata": {},
   "outputs": [],
   "source": [
    "#Perform Spatial Join\n",
    "CCA_DIVVY=gpd.sjoin(CCA, DIVVY_ST, how='left', op='contains')"
   ]
  },
  {
   "cell_type": "code",
   "execution_count": 27,
   "metadata": {},
   "outputs": [
    {
     "data": {
      "text/plain": [
       "((693, 9), (77, 3))"
      ]
     },
     "execution_count": 27,
     "metadata": {},
     "output_type": "execute_result"
    }
   ],
   "source": [
    "CCA_DIVVY.shape, CCA.shape"
   ]
  },
  {
   "cell_type": "code",
   "execution_count": 28,
   "metadata": {},
   "outputs": [
    {
     "data": {
      "text/html": [
       "<div>\n",
       "<style scoped>\n",
       "    .dataframe tbody tr th:only-of-type {\n",
       "        vertical-align: middle;\n",
       "    }\n",
       "\n",
       "    .dataframe tbody tr th {\n",
       "        vertical-align: top;\n",
       "    }\n",
       "\n",
       "    .dataframe thead th {\n",
       "        text-align: right;\n",
       "    }\n",
       "</style>\n",
       "<table border=\"1\" class=\"dataframe\">\n",
       "  <thead>\n",
       "    <tr style=\"text-align: right;\">\n",
       "      <th></th>\n",
       "      <th>COMMUNITY</th>\n",
       "      <th>CCA_NUM</th>\n",
       "      <th>geometry</th>\n",
       "      <th>index_right</th>\n",
       "      <th>station_id</th>\n",
       "      <th>name</th>\n",
       "      <th>capacity</th>\n",
       "      <th>lat</th>\n",
       "      <th>lon</th>\n",
       "    </tr>\n",
       "  </thead>\n",
       "  <tbody>\n",
       "    <tr>\n",
       "      <th>0</th>\n",
       "      <td>DOUGLAS</td>\n",
       "      <td>35</td>\n",
       "      <td>POLYGON ((-87.60914 41.84469, -87.60915 41.844...</td>\n",
       "      <td>162.0</td>\n",
       "      <td>179</td>\n",
       "      <td>MLK Jr Dr &amp; Pershing Rd</td>\n",
       "      <td>15.0</td>\n",
       "      <td>41.824600</td>\n",
       "      <td>-87.616780</td>\n",
       "    </tr>\n",
       "    <tr>\n",
       "      <th>0</th>\n",
       "      <td>DOUGLAS</td>\n",
       "      <td>35</td>\n",
       "      <td>POLYGON ((-87.60914 41.84469, -87.60915 41.844...</td>\n",
       "      <td>369.0</td>\n",
       "      <td>406</td>\n",
       "      <td>Lake Park Ave &amp; 35th St</td>\n",
       "      <td>19.0</td>\n",
       "      <td>41.831274</td>\n",
       "      <td>-87.608799</td>\n",
       "    </tr>\n",
       "    <tr>\n",
       "      <th>0</th>\n",
       "      <td>DOUGLAS</td>\n",
       "      <td>35</td>\n",
       "      <td>POLYGON ((-87.60914 41.84469, -87.60915 41.844...</td>\n",
       "      <td>312.0</td>\n",
       "      <td>335</td>\n",
       "      <td>Calumet Ave &amp; 35th St</td>\n",
       "      <td>15.0</td>\n",
       "      <td>41.831379</td>\n",
       "      <td>-87.618034</td>\n",
       "    </tr>\n",
       "    <tr>\n",
       "      <th>0</th>\n",
       "      <td>DOUGLAS</td>\n",
       "      <td>35</td>\n",
       "      <td>POLYGON ((-87.60914 41.84469, -87.60915 41.844...</td>\n",
       "      <td>134.0</td>\n",
       "      <td>149</td>\n",
       "      <td>Calumet Ave &amp; 33rd St</td>\n",
       "      <td>11.0</td>\n",
       "      <td>41.834900</td>\n",
       "      <td>-87.617930</td>\n",
       "    </tr>\n",
       "    <tr>\n",
       "      <th>0</th>\n",
       "      <td>DOUGLAS</td>\n",
       "      <td>35</td>\n",
       "      <td>POLYGON ((-87.60914 41.84469, -87.60915 41.844...</td>\n",
       "      <td>242.0</td>\n",
       "      <td>263</td>\n",
       "      <td>Rhodes Ave &amp; 32nd St</td>\n",
       "      <td>11.0</td>\n",
       "      <td>41.836208</td>\n",
       "      <td>-87.613533</td>\n",
       "    </tr>\n",
       "  </tbody>\n",
       "</table>\n",
       "</div>"
      ],
      "text/plain": [
       "  COMMUNITY  CCA_NUM                                           geometry  \\\n",
       "0   DOUGLAS       35  POLYGON ((-87.60914 41.84469, -87.60915 41.844...   \n",
       "0   DOUGLAS       35  POLYGON ((-87.60914 41.84469, -87.60915 41.844...   \n",
       "0   DOUGLAS       35  POLYGON ((-87.60914 41.84469, -87.60915 41.844...   \n",
       "0   DOUGLAS       35  POLYGON ((-87.60914 41.84469, -87.60915 41.844...   \n",
       "0   DOUGLAS       35  POLYGON ((-87.60914 41.84469, -87.60915 41.844...   \n",
       "\n",
       "   index_right station_id                     name  capacity        lat  \\\n",
       "0        162.0        179  MLK Jr Dr & Pershing Rd      15.0  41.824600   \n",
       "0        369.0        406  Lake Park Ave & 35th St      19.0  41.831274   \n",
       "0        312.0        335    Calumet Ave & 35th St      15.0  41.831379   \n",
       "0        134.0        149    Calumet Ave & 33rd St      11.0  41.834900   \n",
       "0        242.0        263     Rhodes Ave & 32nd St      11.0  41.836208   \n",
       "\n",
       "         lon  \n",
       "0 -87.616780  \n",
       "0 -87.608799  \n",
       "0 -87.618034  \n",
       "0 -87.617930  \n",
       "0 -87.613533  "
      ]
     },
     "execution_count": 28,
     "metadata": {},
     "output_type": "execute_result"
    }
   ],
   "source": [
    "# We now have Community Name and Number assigned for each of the DIVVY Station.\n",
    "CCA_DIVVY.head()"
   ]
  },
  {
   "cell_type": "code",
   "execution_count": 29,
   "metadata": {},
   "outputs": [],
   "source": [
    "# Group and aggregate for capacity.\n",
    "CCA_DIVVY_AGG=CCA_DIVVY.groupby(['CCA_NUM','COMMUNITY']).agg({'capacity': 'sum'}).reset_index()"
   ]
  },
  {
   "cell_type": "code",
   "execution_count": 30,
   "metadata": {},
   "outputs": [
    {
     "data": {
      "text/html": [
       "<div>\n",
       "<style scoped>\n",
       "    .dataframe tbody tr th:only-of-type {\n",
       "        vertical-align: middle;\n",
       "    }\n",
       "\n",
       "    .dataframe tbody tr th {\n",
       "        vertical-align: top;\n",
       "    }\n",
       "\n",
       "    .dataframe thead th {\n",
       "        text-align: right;\n",
       "    }\n",
       "</style>\n",
       "<table border=\"1\" class=\"dataframe\">\n",
       "  <thead>\n",
       "    <tr style=\"text-align: right;\">\n",
       "      <th></th>\n",
       "      <th>CCA_NUM</th>\n",
       "      <th>COMMUNITY</th>\n",
       "      <th>capacity</th>\n",
       "    </tr>\n",
       "  </thead>\n",
       "  <tbody>\n",
       "    <tr>\n",
       "      <th>0</th>\n",
       "      <td>1</td>\n",
       "      <td>ROGERS PARK</td>\n",
       "      <td>255.0</td>\n",
       "    </tr>\n",
       "    <tr>\n",
       "      <th>1</th>\n",
       "      <td>2</td>\n",
       "      <td>WEST RIDGE</td>\n",
       "      <td>107.0</td>\n",
       "    </tr>\n",
       "    <tr>\n",
       "      <th>2</th>\n",
       "      <td>3</td>\n",
       "      <td>UPTOWN</td>\n",
       "      <td>278.0</td>\n",
       "    </tr>\n",
       "    <tr>\n",
       "      <th>3</th>\n",
       "      <td>4</td>\n",
       "      <td>LINCOLN SQUARE</td>\n",
       "      <td>254.0</td>\n",
       "    </tr>\n",
       "    <tr>\n",
       "      <th>4</th>\n",
       "      <td>5</td>\n",
       "      <td>NORTH CENTER</td>\n",
       "      <td>176.0</td>\n",
       "    </tr>\n",
       "  </tbody>\n",
       "</table>\n",
       "</div>"
      ],
      "text/plain": [
       "   CCA_NUM       COMMUNITY  capacity\n",
       "0        1     ROGERS PARK     255.0\n",
       "1        2      WEST RIDGE     107.0\n",
       "2        3          UPTOWN     278.0\n",
       "3        4  LINCOLN SQUARE     254.0\n",
       "4        5    NORTH CENTER     176.0"
      ]
     },
     "execution_count": 30,
     "metadata": {},
     "output_type": "execute_result"
    }
   ],
   "source": [
    "CCA_DIVVY_AGG.head()"
   ]
  },
  {
   "cell_type": "code",
   "execution_count": 31,
   "metadata": {},
   "outputs": [
    {
     "name": "stdout",
     "output_type": "stream",
     "text": [
      "<class 'pandas.core.frame.DataFrame'>\n",
      "RangeIndex: 77 entries, 0 to 76\n",
      "Data columns (total 3 columns):\n",
      " #   Column     Non-Null Count  Dtype  \n",
      "---  ------     --------------  -----  \n",
      " 0   CCA_NUM    77 non-null     int64  \n",
      " 1   COMMUNITY  77 non-null     object \n",
      " 2   capacity   77 non-null     float64\n",
      "dtypes: float64(1), int64(1), object(1)\n",
      "memory usage: 1.9+ KB\n"
     ]
    }
   ],
   "source": [
    "CCA_DIVVY_AGG.info() # Checking for any Null values."
   ]
  },
  {
   "cell_type": "markdown",
   "metadata": {},
   "source": [
    "Since we have all data prepped, we can now merge the data and prepare a final table for export."
   ]
  },
  {
   "cell_type": "code",
   "execution_count": 32,
   "metadata": {},
   "outputs": [],
   "source": [
    "#merging CCA_pop (Total Population for each Community Area) and CCA_DIVVY_AGG (Total dock capacity of Each Community Area) \n",
    "CCA_DIVVY_POP=pd.merge(CCA_pop,CCA_DIVVY_AGG[['capacity', 'CCA_NUM']], on= 'CCA_NUM',how='left') "
   ]
  },
  {
   "cell_type": "code",
   "execution_count": 33,
   "metadata": {},
   "outputs": [
    {
     "data": {
      "text/plain": [
       "(77, 4)"
      ]
     },
     "execution_count": 33,
     "metadata": {},
     "output_type": "execute_result"
    }
   ],
   "source": [
    "CCA_DIVVY_POP.shape # Checking the structure of table."
   ]
  },
  {
   "cell_type": "code",
   "execution_count": 34,
   "metadata": {},
   "outputs": [
    {
     "data": {
      "text/html": [
       "<div>\n",
       "<style scoped>\n",
       "    .dataframe tbody tr th:only-of-type {\n",
       "        vertical-align: middle;\n",
       "    }\n",
       "\n",
       "    .dataframe tbody tr th {\n",
       "        vertical-align: top;\n",
       "    }\n",
       "\n",
       "    .dataframe thead th {\n",
       "        text-align: right;\n",
       "    }\n",
       "</style>\n",
       "<table border=\"1\" class=\"dataframe\">\n",
       "  <thead>\n",
       "    <tr style=\"text-align: right;\">\n",
       "      <th></th>\n",
       "      <th>CCA_NUM</th>\n",
       "      <th>COMMUNITY</th>\n",
       "      <th>POP2010</th>\n",
       "      <th>capacity</th>\n",
       "    </tr>\n",
       "  </thead>\n",
       "  <tbody>\n",
       "    <tr>\n",
       "      <th>0</th>\n",
       "      <td>1</td>\n",
       "      <td>ROGERS PARK</td>\n",
       "      <td>48106.0</td>\n",
       "      <td>255.0</td>\n",
       "    </tr>\n",
       "    <tr>\n",
       "      <th>1</th>\n",
       "      <td>2</td>\n",
       "      <td>WEST RIDGE</td>\n",
       "      <td>66617.0</td>\n",
       "      <td>107.0</td>\n",
       "    </tr>\n",
       "    <tr>\n",
       "      <th>2</th>\n",
       "      <td>3</td>\n",
       "      <td>UPTOWN</td>\n",
       "      <td>51776.0</td>\n",
       "      <td>278.0</td>\n",
       "    </tr>\n",
       "    <tr>\n",
       "      <th>3</th>\n",
       "      <td>4</td>\n",
       "      <td>LINCOLN SQUARE</td>\n",
       "      <td>36612.0</td>\n",
       "      <td>254.0</td>\n",
       "    </tr>\n",
       "    <tr>\n",
       "      <th>4</th>\n",
       "      <td>5</td>\n",
       "      <td>NORTH CENTER</td>\n",
       "      <td>29145.0</td>\n",
       "      <td>176.0</td>\n",
       "    </tr>\n",
       "  </tbody>\n",
       "</table>\n",
       "</div>"
      ],
      "text/plain": [
       "   CCA_NUM       COMMUNITY  POP2010  capacity\n",
       "0        1     ROGERS PARK  48106.0     255.0\n",
       "1        2      WEST RIDGE  66617.0     107.0\n",
       "2        3          UPTOWN  51776.0     278.0\n",
       "3        4  LINCOLN SQUARE  36612.0     254.0\n",
       "4        5    NORTH CENTER  29145.0     176.0"
      ]
     },
     "execution_count": 34,
     "metadata": {},
     "output_type": "execute_result"
    }
   ],
   "source": [
    "CCA_DIVVY_POP.head()"
   ]
  },
  {
   "cell_type": "code",
   "execution_count": 35,
   "metadata": {},
   "outputs": [
    {
     "name": "stdout",
     "output_type": "stream",
     "text": [
      "<class 'pandas.core.frame.DataFrame'>\n",
      "Int64Index: 77 entries, 0 to 76\n",
      "Data columns (total 4 columns):\n",
      " #   Column     Non-Null Count  Dtype  \n",
      "---  ------     --------------  -----  \n",
      " 0   CCA_NUM    77 non-null     int64  \n",
      " 1   COMMUNITY  77 non-null     object \n",
      " 2   POP2010    77 non-null     float64\n",
      " 3   capacity   77 non-null     float64\n",
      "dtypes: float64(2), int64(1), object(1)\n",
      "memory usage: 3.0+ KB\n"
     ]
    }
   ],
   "source": [
    "#Check for Null values\n",
    "CCA_DIVVY_POP.info()"
   ]
  },
  {
   "cell_type": "code",
   "execution_count": 36,
   "metadata": {},
   "outputs": [],
   "source": [
    "#Compute Population Per Dock.\n",
    "CCA_DIVVY_POP['POP/DOCK']=CCA_DIVVY_POP['POP2010']/CCA_DIVVY_POP['capacity']"
   ]
  },
  {
   "cell_type": "code",
   "execution_count": 37,
   "metadata": {
    "scrolled": true
   },
   "outputs": [
    {
     "data": {
      "text/html": [
       "<div>\n",
       "<style scoped>\n",
       "    .dataframe tbody tr th:only-of-type {\n",
       "        vertical-align: middle;\n",
       "    }\n",
       "\n",
       "    .dataframe tbody tr th {\n",
       "        vertical-align: top;\n",
       "    }\n",
       "\n",
       "    .dataframe thead th {\n",
       "        text-align: right;\n",
       "    }\n",
       "</style>\n",
       "<table border=\"1\" class=\"dataframe\">\n",
       "  <thead>\n",
       "    <tr style=\"text-align: right;\">\n",
       "      <th></th>\n",
       "      <th>CCA_NUM</th>\n",
       "      <th>COMMUNITY</th>\n",
       "      <th>POP2010</th>\n",
       "      <th>capacity</th>\n",
       "      <th>POP/DOCK</th>\n",
       "    </tr>\n",
       "  </thead>\n",
       "  <tbody>\n",
       "    <tr>\n",
       "      <th>0</th>\n",
       "      <td>1</td>\n",
       "      <td>ROGERS PARK</td>\n",
       "      <td>48106.0</td>\n",
       "      <td>255.0</td>\n",
       "      <td>188.650980</td>\n",
       "    </tr>\n",
       "    <tr>\n",
       "      <th>1</th>\n",
       "      <td>2</td>\n",
       "      <td>WEST RIDGE</td>\n",
       "      <td>66617.0</td>\n",
       "      <td>107.0</td>\n",
       "      <td>622.588785</td>\n",
       "    </tr>\n",
       "    <tr>\n",
       "      <th>2</th>\n",
       "      <td>3</td>\n",
       "      <td>UPTOWN</td>\n",
       "      <td>51776.0</td>\n",
       "      <td>278.0</td>\n",
       "      <td>186.244604</td>\n",
       "    </tr>\n",
       "    <tr>\n",
       "      <th>3</th>\n",
       "      <td>4</td>\n",
       "      <td>LINCOLN SQUARE</td>\n",
       "      <td>36612.0</td>\n",
       "      <td>254.0</td>\n",
       "      <td>144.141732</td>\n",
       "    </tr>\n",
       "    <tr>\n",
       "      <th>4</th>\n",
       "      <td>5</td>\n",
       "      <td>NORTH CENTER</td>\n",
       "      <td>29145.0</td>\n",
       "      <td>176.0</td>\n",
       "      <td>165.596591</td>\n",
       "    </tr>\n",
       "  </tbody>\n",
       "</table>\n",
       "</div>"
      ],
      "text/plain": [
       "   CCA_NUM       COMMUNITY  POP2010  capacity    POP/DOCK\n",
       "0        1     ROGERS PARK  48106.0     255.0  188.650980\n",
       "1        2      WEST RIDGE  66617.0     107.0  622.588785\n",
       "2        3          UPTOWN  51776.0     278.0  186.244604\n",
       "3        4  LINCOLN SQUARE  36612.0     254.0  144.141732\n",
       "4        5    NORTH CENTER  29145.0     176.0  165.596591"
      ]
     },
     "execution_count": 37,
     "metadata": {},
     "output_type": "execute_result"
    }
   ],
   "source": [
    "CCA_DIVVY_POP.head()"
   ]
  },
  {
   "cell_type": "code",
   "execution_count": 38,
   "metadata": {
    "scrolled": true
   },
   "outputs": [
    {
     "name": "stdout",
     "output_type": "stream",
     "text": [
      "<class 'pandas.core.frame.DataFrame'>\n",
      "Int64Index: 77 entries, 0 to 76\n",
      "Data columns (total 5 columns):\n",
      " #   Column     Non-Null Count  Dtype  \n",
      "---  ------     --------------  -----  \n",
      " 0   CCA_NUM    77 non-null     int64  \n",
      " 1   COMMUNITY  77 non-null     object \n",
      " 2   POP2010    77 non-null     float64\n",
      " 3   capacity   77 non-null     float64\n",
      " 4   POP/DOCK   77 non-null     float64\n",
      "dtypes: float64(3), int64(1), object(1)\n",
      "memory usage: 3.6+ KB\n"
     ]
    }
   ],
   "source": [
    "CCA_DIVVY_POP.info()"
   ]
  },
  {
   "cell_type": "code",
   "execution_count": 39,
   "metadata": {},
   "outputs": [],
   "source": [
    "#Some housekeeping.\n",
    "CCA_DIVVY_POP.rename(columns = {'capacity':'CAPACITY'}, inplace = True) \n",
    "\n",
    "# Export as CSV file.\n",
    "CCA_DIVVY_POP.to_csv('Chicao_Divvy_Pop_Per_Dock.csv', index=False)"
   ]
  },
  {
   "cell_type": "markdown",
   "metadata": {},
   "source": [
    "## 2) Data Analysis"
   ]
  },
  {
   "cell_type": "code",
   "execution_count": 40,
   "metadata": {},
   "outputs": [
    {
     "data": {
      "text/html": [
       "<div>\n",
       "<style scoped>\n",
       "    .dataframe tbody tr th:only-of-type {\n",
       "        vertical-align: middle;\n",
       "    }\n",
       "\n",
       "    .dataframe tbody tr th {\n",
       "        vertical-align: top;\n",
       "    }\n",
       "\n",
       "    .dataframe thead th {\n",
       "        text-align: right;\n",
       "    }\n",
       "</style>\n",
       "<table border=\"1\" class=\"dataframe\">\n",
       "  <thead>\n",
       "    <tr style=\"text-align: right;\">\n",
       "      <th></th>\n",
       "      <th>COMMUNITY</th>\n",
       "      <th>CCA_NUM</th>\n",
       "      <th>geometry</th>\n",
       "    </tr>\n",
       "  </thead>\n",
       "  <tbody>\n",
       "    <tr>\n",
       "      <th>0</th>\n",
       "      <td>DOUGLAS</td>\n",
       "      <td>35</td>\n",
       "      <td>POLYGON ((-87.60914 41.84469, -87.60915 41.844...</td>\n",
       "    </tr>\n",
       "    <tr>\n",
       "      <th>1</th>\n",
       "      <td>OAKLAND</td>\n",
       "      <td>36</td>\n",
       "      <td>POLYGON ((-87.59215 41.81693, -87.59231 41.816...</td>\n",
       "    </tr>\n",
       "    <tr>\n",
       "      <th>2</th>\n",
       "      <td>FULLER PARK</td>\n",
       "      <td>37</td>\n",
       "      <td>POLYGON ((-87.62880 41.80189, -87.62879 41.801...</td>\n",
       "    </tr>\n",
       "    <tr>\n",
       "      <th>3</th>\n",
       "      <td>GRAND BOULEVARD</td>\n",
       "      <td>38</td>\n",
       "      <td>POLYGON ((-87.60671 41.81681, -87.60670 41.816...</td>\n",
       "    </tr>\n",
       "    <tr>\n",
       "      <th>4</th>\n",
       "      <td>KENWOOD</td>\n",
       "      <td>39</td>\n",
       "      <td>POLYGON ((-87.59215 41.81693, -87.59215 41.816...</td>\n",
       "    </tr>\n",
       "  </tbody>\n",
       "</table>\n",
       "</div>"
      ],
      "text/plain": [
       "         COMMUNITY  CCA_NUM                                           geometry\n",
       "0          DOUGLAS       35  POLYGON ((-87.60914 41.84469, -87.60915 41.844...\n",
       "1          OAKLAND       36  POLYGON ((-87.59215 41.81693, -87.59231 41.816...\n",
       "2      FULLER PARK       37  POLYGON ((-87.62880 41.80189, -87.62879 41.801...\n",
       "3  GRAND BOULEVARD       38  POLYGON ((-87.60671 41.81681, -87.60670 41.816...\n",
       "4          KENWOOD       39  POLYGON ((-87.59215 41.81693, -87.59215 41.816..."
      ]
     },
     "execution_count": 40,
     "metadata": {},
     "output_type": "execute_result"
    }
   ],
   "source": [
    "CCA.head()"
   ]
  },
  {
   "cell_type": "code",
   "execution_count": 41,
   "metadata": {},
   "outputs": [],
   "source": [
    "#Combining the evaluated table with CCA data that includes spatial information.\n",
    "CCA_new = pd.merge(CCA, CCA_DIVVY_POP, on=['COMMUNITY','CCA_NUM'])"
   ]
  },
  {
   "cell_type": "code",
   "execution_count": 42,
   "metadata": {},
   "outputs": [
    {
     "data": {
      "text/html": [
       "<div>\n",
       "<style scoped>\n",
       "    .dataframe tbody tr th:only-of-type {\n",
       "        vertical-align: middle;\n",
       "    }\n",
       "\n",
       "    .dataframe tbody tr th {\n",
       "        vertical-align: top;\n",
       "    }\n",
       "\n",
       "    .dataframe thead th {\n",
       "        text-align: right;\n",
       "    }\n",
       "</style>\n",
       "<table border=\"1\" class=\"dataframe\">\n",
       "  <thead>\n",
       "    <tr style=\"text-align: right;\">\n",
       "      <th></th>\n",
       "      <th>COMMUNITY</th>\n",
       "      <th>CCA_NUM</th>\n",
       "      <th>geometry</th>\n",
       "      <th>POP2010</th>\n",
       "      <th>CAPACITY</th>\n",
       "      <th>POP/DOCK</th>\n",
       "    </tr>\n",
       "  </thead>\n",
       "  <tbody>\n",
       "    <tr>\n",
       "      <th>0</th>\n",
       "      <td>DOUGLAS</td>\n",
       "      <td>35</td>\n",
       "      <td>POLYGON ((-87.60914 41.84469, -87.60915 41.844...</td>\n",
       "      <td>15579.0</td>\n",
       "      <td>173.0</td>\n",
       "      <td>90.052023</td>\n",
       "    </tr>\n",
       "    <tr>\n",
       "      <th>1</th>\n",
       "      <td>OAKLAND</td>\n",
       "      <td>36</td>\n",
       "      <td>POLYGON ((-87.59215 41.81693, -87.59231 41.816...</td>\n",
       "      <td>3844.0</td>\n",
       "      <td>0.0</td>\n",
       "      <td>inf</td>\n",
       "    </tr>\n",
       "    <tr>\n",
       "      <th>2</th>\n",
       "      <td>FULLER PARK</td>\n",
       "      <td>37</td>\n",
       "      <td>POLYGON ((-87.62880 41.80189, -87.62879 41.801...</td>\n",
       "      <td>2516.0</td>\n",
       "      <td>33.0</td>\n",
       "      <td>76.242424</td>\n",
       "    </tr>\n",
       "    <tr>\n",
       "      <th>3</th>\n",
       "      <td>GRAND BOULEVARD</td>\n",
       "      <td>38</td>\n",
       "      <td>POLYGON ((-87.60671 41.81681, -87.60670 41.816...</td>\n",
       "      <td>18689.0</td>\n",
       "      <td>104.0</td>\n",
       "      <td>179.701923</td>\n",
       "    </tr>\n",
       "    <tr>\n",
       "      <th>4</th>\n",
       "      <td>KENWOOD</td>\n",
       "      <td>39</td>\n",
       "      <td>POLYGON ((-87.59215 41.81693, -87.59215 41.816...</td>\n",
       "      <td>12421.0</td>\n",
       "      <td>90.0</td>\n",
       "      <td>138.011111</td>\n",
       "    </tr>\n",
       "  </tbody>\n",
       "</table>\n",
       "</div>"
      ],
      "text/plain": [
       "         COMMUNITY  CCA_NUM  \\\n",
       "0          DOUGLAS       35   \n",
       "1          OAKLAND       36   \n",
       "2      FULLER PARK       37   \n",
       "3  GRAND BOULEVARD       38   \n",
       "4          KENWOOD       39   \n",
       "\n",
       "                                            geometry  POP2010  CAPACITY  \\\n",
       "0  POLYGON ((-87.60914 41.84469, -87.60915 41.844...  15579.0     173.0   \n",
       "1  POLYGON ((-87.59215 41.81693, -87.59231 41.816...   3844.0       0.0   \n",
       "2  POLYGON ((-87.62880 41.80189, -87.62879 41.801...   2516.0      33.0   \n",
       "3  POLYGON ((-87.60671 41.81681, -87.60670 41.816...  18689.0     104.0   \n",
       "4  POLYGON ((-87.59215 41.81693, -87.59215 41.816...  12421.0      90.0   \n",
       "\n",
       "     POP/DOCK  \n",
       "0   90.052023  \n",
       "1         inf  \n",
       "2   76.242424  \n",
       "3  179.701923  \n",
       "4  138.011111  "
      ]
     },
     "execution_count": 42,
     "metadata": {},
     "output_type": "execute_result"
    }
   ],
   "source": [
    "CCA_new.head()"
   ]
  },
  {
   "cell_type": "code",
   "execution_count": 43,
   "metadata": {},
   "outputs": [
    {
     "name": "stdout",
     "output_type": "stream",
     "text": [
      "<class 'geopandas.geodataframe.GeoDataFrame'>\n",
      "Int64Index: 77 entries, 0 to 76\n",
      "Data columns (total 6 columns):\n",
      " #   Column     Non-Null Count  Dtype   \n",
      "---  ------     --------------  -----   \n",
      " 0   COMMUNITY  77 non-null     object  \n",
      " 1   CCA_NUM    77 non-null     int64   \n",
      " 2   geometry   77 non-null     geometry\n",
      " 3   POP2010    77 non-null     float64 \n",
      " 4   CAPACITY   77 non-null     float64 \n",
      " 5   POP/DOCK   77 non-null     float64 \n",
      "dtypes: float64(3), geometry(1), int64(1), object(1)\n",
      "memory usage: 4.2+ KB\n"
     ]
    }
   ],
   "source": [
    "CCA_new.info()"
   ]
  },
  {
   "cell_type": "code",
   "execution_count": 44,
   "metadata": {},
   "outputs": [
    {
     "data": {
      "image/png": "[encoded data removed]",
      "text/plain": [
       "<Figure size 1440x1080 with 1 Axes>"
      ]
     },
     "metadata": {
      "needs_background": "light"
     },
     "output_type": "display_data"
    }
   ],
   "source": [
    "#sample plot with the new data\n",
    "%matplotlib inline\n",
    "fig, ax = plt.subplots(figsize=(20,15))\n",
    "df=CCA_new\n",
    "df.plot(\n",
    "    column='POP/DOCK', ax=ax, legend=True,  scheme='quantiles', cmap='coolwarm',\n",
    ")\n",
    "plt.title(('Population Per Dock By CCA'), color ='black', fontsize='20')\n",
    "# In order to get labels for each Community lets extract cordinates and assign a representative point.\n",
    "df['coords'] = df['geometry'].apply(lambda x: x.representative_point().coords[:])\n",
    "df['coords'] = [coords[0] for coords in df['coords']]\n",
    "for idx, row in df.iterrows():\n",
    "    plt.annotate(s=row['CCA_NUM'], xy=row['coords'],horizontalalignment='center')"
   ]
  },
  {
   "cell_type": "code",
   "execution_count": 45,
   "metadata": {},
   "outputs": [],
   "source": [
    "# Export as a Shapefile.\n",
    "CCA_new = pd.merge(CCA, CCA_DIVVY_POP, on=['COMMUNITY','CCA_NUM'])\n",
    "CCA_new.to_file('cc_divvy_pop_per_dock.shp', driver='ESRI Shapefile')"
   ]
  },
  {
   "cell_type": "markdown",
   "metadata": {},
   "source": [
    "## 3) Data Validation\n",
    "\n",
    "To validate the performance of spatial joins we will use the provided sample DIVVY dock stations shapefile and compare it for the same region in the dataframe evalauated above for any difference in total sum of Docks."
   ]
  },
  {
   "cell_type": "code",
   "execution_count": 46,
   "metadata": {},
   "outputs": [
    {
     "data": {
      "text/html": [
       "<div>\n",
       "<style scoped>\n",
       "    .dataframe tbody tr th:only-of-type {\n",
       "        vertical-align: middle;\n",
       "    }\n",
       "\n",
       "    .dataframe tbody tr th {\n",
       "        vertical-align: top;\n",
       "    }\n",
       "\n",
       "    .dataframe thead th {\n",
       "        text-align: right;\n",
       "    }\n",
       "</style>\n",
       "<table border=\"1\" class=\"dataframe\">\n",
       "  <thead>\n",
       "    <tr style=\"text-align: right;\">\n",
       "      <th></th>\n",
       "      <th>DOCKS</th>\n",
       "      <th>geometry</th>\n",
       "    </tr>\n",
       "  </thead>\n",
       "  <tbody>\n",
       "    <tr>\n",
       "      <th>0</th>\n",
       "      <td>35</td>\n",
       "      <td>POINT (-87.65270 41.93242)</td>\n",
       "    </tr>\n",
       "    <tr>\n",
       "      <th>1</th>\n",
       "      <td>15</td>\n",
       "      <td>POINT (-87.65311 41.91052)</td>\n",
       "    </tr>\n",
       "    <tr>\n",
       "      <th>2</th>\n",
       "      <td>15</td>\n",
       "      <td>POINT (-87.63772 41.90292)</td>\n",
       "    </tr>\n",
       "    <tr>\n",
       "      <th>3</th>\n",
       "      <td>15</td>\n",
       "      <td>POINT (-87.62058 41.89185)</td>\n",
       "    </tr>\n",
       "    <tr>\n",
       "      <th>4</th>\n",
       "      <td>23</td>\n",
       "      <td>POINT (-87.62351 41.89766)</td>\n",
       "    </tr>\n",
       "  </tbody>\n",
       "</table>\n",
       "</div>"
      ],
      "text/plain": [
       "   DOCKS                    geometry\n",
       "0     35  POINT (-87.65270 41.93242)\n",
       "1     15  POINT (-87.65311 41.91052)\n",
       "2     15  POINT (-87.63772 41.90292)\n",
       "3     15  POINT (-87.62058 41.89185)\n",
       "4     23  POINT (-87.62351 41.89766)"
      ]
     },
     "execution_count": 46,
     "metadata": {},
     "output_type": "execute_result"
    }
   ],
   "source": [
    "#import the sample file\n",
    "DIVVY_sample = gpd.read_file('zip://Datasets.zip!Datasets/DivvyStations_Docks20210219_Sample.shp')\n",
    "DIVVY_sample=DIVVY_sample.to_crs({'init':'epsg:4326'}) #ensuring projection as wgs84\n",
    "DIVVY_sample.head()"
   ]
  },
  {
   "cell_type": "code",
   "execution_count": 47,
   "metadata": {},
   "outputs": [
    {
     "data": {
      "text/html": [
       "<div>\n",
       "<style scoped>\n",
       "    .dataframe tbody tr th:only-of-type {\n",
       "        vertical-align: middle;\n",
       "    }\n",
       "\n",
       "    .dataframe tbody tr th {\n",
       "        vertical-align: top;\n",
       "    }\n",
       "\n",
       "    .dataframe thead th {\n",
       "        text-align: right;\n",
       "    }\n",
       "</style>\n",
       "<table border=\"1\" class=\"dataframe\">\n",
       "  <thead>\n",
       "    <tr style=\"text-align: right;\">\n",
       "      <th></th>\n",
       "      <th>CCA_NUM</th>\n",
       "      <th>COMMUNITY</th>\n",
       "      <th>DOCKS</th>\n",
       "    </tr>\n",
       "  </thead>\n",
       "  <tbody>\n",
       "    <tr>\n",
       "      <th>0</th>\n",
       "      <td>1</td>\n",
       "      <td>ROGERS PARK</td>\n",
       "      <td>255.0</td>\n",
       "    </tr>\n",
       "    <tr>\n",
       "      <th>1</th>\n",
       "      <td>2</td>\n",
       "      <td>WEST RIDGE</td>\n",
       "      <td>107.0</td>\n",
       "    </tr>\n",
       "    <tr>\n",
       "      <th>2</th>\n",
       "      <td>3</td>\n",
       "      <td>UPTOWN</td>\n",
       "      <td>278.0</td>\n",
       "    </tr>\n",
       "    <tr>\n",
       "      <th>3</th>\n",
       "      <td>4</td>\n",
       "      <td>LINCOLN SQUARE</td>\n",
       "      <td>254.0</td>\n",
       "    </tr>\n",
       "    <tr>\n",
       "      <th>4</th>\n",
       "      <td>5</td>\n",
       "      <td>NORTH CENTER</td>\n",
       "      <td>176.0</td>\n",
       "    </tr>\n",
       "    <tr>\n",
       "      <th>5</th>\n",
       "      <td>6</td>\n",
       "      <td>LAKE VIEW</td>\n",
       "      <td>659.0</td>\n",
       "    </tr>\n",
       "    <tr>\n",
       "      <th>6</th>\n",
       "      <td>7</td>\n",
       "      <td>LINCOLN PARK</td>\n",
       "      <td>751.0</td>\n",
       "    </tr>\n",
       "    <tr>\n",
       "      <th>7</th>\n",
       "      <td>8</td>\n",
       "      <td>NEAR NORTH SIDE</td>\n",
       "      <td>1157.0</td>\n",
       "    </tr>\n",
       "    <tr>\n",
       "      <th>8</th>\n",
       "      <td>9</td>\n",
       "      <td>EDISON PARK</td>\n",
       "      <td>0.0</td>\n",
       "    </tr>\n",
       "    <tr>\n",
       "      <th>9</th>\n",
       "      <td>10</td>\n",
       "      <td>NORWOOD PARK</td>\n",
       "      <td>0.0</td>\n",
       "    </tr>\n",
       "  </tbody>\n",
       "</table>\n",
       "</div>"
      ],
      "text/plain": [
       "   CCA_NUM        COMMUNITY   DOCKS\n",
       "0        1      ROGERS PARK   255.0\n",
       "1        2       WEST RIDGE   107.0\n",
       "2        3           UPTOWN   278.0\n",
       "3        4   LINCOLN SQUARE   254.0\n",
       "4        5     NORTH CENTER   176.0\n",
       "5        6        LAKE VIEW   659.0\n",
       "6        7     LINCOLN PARK   751.0\n",
       "7        8  NEAR NORTH SIDE  1157.0\n",
       "8        9      EDISON PARK     0.0\n",
       "9       10     NORWOOD PARK     0.0"
      ]
     },
     "execution_count": 47,
     "metadata": {},
     "output_type": "execute_result"
    }
   ],
   "source": [
    "#Spatial Join Sample with CCA boundaries\n",
    "CCA_DIVVY_SAM=gpd.sjoin(CCA, DIVVY_sample, how='left', op='contains')\n",
    "\n",
    "# Group and aggregate for capacity.\n",
    "CCA_DIVVY_AGG_SAM=CCA_DIVVY_SAM.groupby(['CCA_NUM','COMMUNITY']).agg({'DOCKS': 'sum'}).reset_index()\n",
    "CCA_DIVVY_AGG_SAM.head(10)"
   ]
  },
  {
   "cell_type": "markdown",
   "metadata": {},
   "source": [
    "The sample dataset only comprised of data for 8 Communities for which the total number of DOCKS were evaluated."
   ]
  },
  {
   "cell_type": "markdown",
   "metadata": {},
   "source": [
    "### Now the total of docking stations in 8 communities from Sample file and for same 8 communities from prepared dataset has been compared."
   ]
  },
  {
   "cell_type": "code",
   "execution_count": 48,
   "metadata": {},
   "outputs": [
    {
     "name": "stdout",
     "output_type": "stream",
     "text": [
      "Total Docks based on Provided DIVVY Station Sample 3637.0\n"
     ]
    },
    {
     "data": {
      "text/html": [
       "<div>\n",
       "<style scoped>\n",
       "    .dataframe tbody tr th:only-of-type {\n",
       "        vertical-align: middle;\n",
       "    }\n",
       "\n",
       "    .dataframe tbody tr th {\n",
       "        vertical-align: top;\n",
       "    }\n",
       "\n",
       "    .dataframe thead th {\n",
       "        text-align: right;\n",
       "    }\n",
       "</style>\n",
       "<table border=\"1\" class=\"dataframe\">\n",
       "  <thead>\n",
       "    <tr style=\"text-align: right;\">\n",
       "      <th></th>\n",
       "      <th>CCA_NUM</th>\n",
       "      <th>COMMUNITY</th>\n",
       "      <th>POP2010</th>\n",
       "      <th>DOCKS</th>\n",
       "    </tr>\n",
       "  </thead>\n",
       "  <tbody>\n",
       "    <tr>\n",
       "      <th>0</th>\n",
       "      <td>1</td>\n",
       "      <td>ROGERS PARK</td>\n",
       "      <td>48106.0</td>\n",
       "      <td>255.0</td>\n",
       "    </tr>\n",
       "    <tr>\n",
       "      <th>1</th>\n",
       "      <td>2</td>\n",
       "      <td>WEST RIDGE</td>\n",
       "      <td>66617.0</td>\n",
       "      <td>107.0</td>\n",
       "    </tr>\n",
       "    <tr>\n",
       "      <th>2</th>\n",
       "      <td>3</td>\n",
       "      <td>UPTOWN</td>\n",
       "      <td>51776.0</td>\n",
       "      <td>278.0</td>\n",
       "    </tr>\n",
       "    <tr>\n",
       "      <th>3</th>\n",
       "      <td>4</td>\n",
       "      <td>LINCOLN SQUARE</td>\n",
       "      <td>36612.0</td>\n",
       "      <td>254.0</td>\n",
       "    </tr>\n",
       "    <tr>\n",
       "      <th>4</th>\n",
       "      <td>5</td>\n",
       "      <td>NORTH CENTER</td>\n",
       "      <td>29145.0</td>\n",
       "      <td>176.0</td>\n",
       "    </tr>\n",
       "    <tr>\n",
       "      <th>5</th>\n",
       "      <td>6</td>\n",
       "      <td>LAKE VIEW</td>\n",
       "      <td>84721.0</td>\n",
       "      <td>659.0</td>\n",
       "    </tr>\n",
       "    <tr>\n",
       "      <th>6</th>\n",
       "      <td>7</td>\n",
       "      <td>LINCOLN PARK</td>\n",
       "      <td>59804.0</td>\n",
       "      <td>751.0</td>\n",
       "    </tr>\n",
       "    <tr>\n",
       "      <th>7</th>\n",
       "      <td>8</td>\n",
       "      <td>NEAR NORTH SIDE</td>\n",
       "      <td>75695.0</td>\n",
       "      <td>1157.0</td>\n",
       "    </tr>\n",
       "  </tbody>\n",
       "</table>\n",
       "</div>"
      ],
      "text/plain": [
       "   CCA_NUM        COMMUNITY  POP2010   DOCKS\n",
       "0        1      ROGERS PARK  48106.0   255.0\n",
       "1        2       WEST RIDGE  66617.0   107.0\n",
       "2        3           UPTOWN  51776.0   278.0\n",
       "3        4   LINCOLN SQUARE  36612.0   254.0\n",
       "4        5     NORTH CENTER  29145.0   176.0\n",
       "5        6        LAKE VIEW  84721.0   659.0\n",
       "6        7     LINCOLN PARK  59804.0   751.0\n",
       "7        8  NEAR NORTH SIDE  75695.0  1157.0"
      ]
     },
     "execution_count": 48,
     "metadata": {},
     "output_type": "execute_result"
    }
   ],
   "source": [
    "#merging CCA_pop (Total Population for each Community Area) and CCA_DIVVY_AGG (Total dock capacity of Each Community Area) \n",
    "CCA_DIVVY_POP_SAM=pd.merge(CCA_pop,CCA_DIVVY_AGG_SAM[['DOCKS', 'CCA_NUM']], on= 'CCA_NUM',how='left') \n",
    "\n",
    "CCA_DIVVY_POP_SAMv2= CCA_DIVVY_POP_SAM.iloc[0:8] #Selecting CCA NUM from 1 to 8\n",
    "TotalDocks=CCA_DIVVY_POP_SAMv2['DOCKS'].sum() #Sum of All the Docs in CCA-NUM 1 to 8\n",
    "print(\"Total Docks based on Provided DIVVY Station Sample\", TotalDocks)\n",
    "CCA_DIVVY_POP_SAMv2.head(10)"
   ]
  },
  {
   "cell_type": "code",
   "execution_count": 49,
   "metadata": {},
   "outputs": [
    {
     "name": "stdout",
     "output_type": "stream",
     "text": [
      "Total Docks based on DIVVY Station from JSON feed 3637.0\n"
     ]
    },
    {
     "data": {
      "text/html": [
       "<div>\n",
       "<style scoped>\n",
       "    .dataframe tbody tr th:only-of-type {\n",
       "        vertical-align: middle;\n",
       "    }\n",
       "\n",
       "    .dataframe tbody tr th {\n",
       "        vertical-align: top;\n",
       "    }\n",
       "\n",
       "    .dataframe thead th {\n",
       "        text-align: right;\n",
       "    }\n",
       "</style>\n",
       "<table border=\"1\" class=\"dataframe\">\n",
       "  <thead>\n",
       "    <tr style=\"text-align: right;\">\n",
       "      <th></th>\n",
       "      <th>CCA_NUM</th>\n",
       "      <th>COMMUNITY</th>\n",
       "      <th>POP2010</th>\n",
       "      <th>CAPACITY</th>\n",
       "      <th>POP/DOCK</th>\n",
       "    </tr>\n",
       "  </thead>\n",
       "  <tbody>\n",
       "    <tr>\n",
       "      <th>0</th>\n",
       "      <td>1</td>\n",
       "      <td>ROGERS PARK</td>\n",
       "      <td>48106.0</td>\n",
       "      <td>255.0</td>\n",
       "      <td>188.650980</td>\n",
       "    </tr>\n",
       "    <tr>\n",
       "      <th>1</th>\n",
       "      <td>2</td>\n",
       "      <td>WEST RIDGE</td>\n",
       "      <td>66617.0</td>\n",
       "      <td>107.0</td>\n",
       "      <td>622.588785</td>\n",
       "    </tr>\n",
       "    <tr>\n",
       "      <th>2</th>\n",
       "      <td>3</td>\n",
       "      <td>UPTOWN</td>\n",
       "      <td>51776.0</td>\n",
       "      <td>278.0</td>\n",
       "      <td>186.244604</td>\n",
       "    </tr>\n",
       "    <tr>\n",
       "      <th>3</th>\n",
       "      <td>4</td>\n",
       "      <td>LINCOLN SQUARE</td>\n",
       "      <td>36612.0</td>\n",
       "      <td>254.0</td>\n",
       "      <td>144.141732</td>\n",
       "    </tr>\n",
       "    <tr>\n",
       "      <th>4</th>\n",
       "      <td>5</td>\n",
       "      <td>NORTH CENTER</td>\n",
       "      <td>29145.0</td>\n",
       "      <td>176.0</td>\n",
       "      <td>165.596591</td>\n",
       "    </tr>\n",
       "    <tr>\n",
       "      <th>5</th>\n",
       "      <td>6</td>\n",
       "      <td>LAKE VIEW</td>\n",
       "      <td>84721.0</td>\n",
       "      <td>659.0</td>\n",
       "      <td>128.559939</td>\n",
       "    </tr>\n",
       "    <tr>\n",
       "      <th>6</th>\n",
       "      <td>7</td>\n",
       "      <td>LINCOLN PARK</td>\n",
       "      <td>59804.0</td>\n",
       "      <td>751.0</td>\n",
       "      <td>79.632490</td>\n",
       "    </tr>\n",
       "    <tr>\n",
       "      <th>7</th>\n",
       "      <td>8</td>\n",
       "      <td>NEAR NORTH SIDE</td>\n",
       "      <td>75695.0</td>\n",
       "      <td>1157.0</td>\n",
       "      <td>65.423509</td>\n",
       "    </tr>\n",
       "  </tbody>\n",
       "</table>\n",
       "</div>"
      ],
      "text/plain": [
       "   CCA_NUM        COMMUNITY  POP2010  CAPACITY    POP/DOCK\n",
       "0        1      ROGERS PARK  48106.0     255.0  188.650980\n",
       "1        2       WEST RIDGE  66617.0     107.0  622.588785\n",
       "2        3           UPTOWN  51776.0     278.0  186.244604\n",
       "3        4   LINCOLN SQUARE  36612.0     254.0  144.141732\n",
       "4        5     NORTH CENTER  29145.0     176.0  165.596591\n",
       "5        6        LAKE VIEW  84721.0     659.0  128.559939\n",
       "6        7     LINCOLN PARK  59804.0     751.0   79.632490\n",
       "7        8  NEAR NORTH SIDE  75695.0    1157.0   65.423509"
      ]
     },
     "execution_count": 49,
     "metadata": {},
     "output_type": "execute_result"
    }
   ],
   "source": [
    "#Extracting these 8 Rows of data from our evaluated dataframe CCA_DIVVY_POP. ie CCA_NUM 1-8\n",
    "CCA_DIVVY_POPv2= CCA_DIVVY_POP.iloc[0:8]\n",
    "TotalDocks=CCA_DIVVY_POPv2['CAPACITY'].sum()\n",
    "print(\"Total Docks based on DIVVY Station from JSON feed\", TotalDocks)\n",
    "CCA_DIVVY_POPv2.head(10)"
   ]
  },
  {
   "cell_type": "markdown",
   "metadata": {},
   "source": [
    "### Hence validated!"
   ]
  },
  {
   "cell_type": "markdown",
   "metadata": {},
   "source": [
    "## 4) Data Visualization"
   ]
  },
  {
   "cell_type": "markdown",
   "metadata": {},
   "source": [
    "#### In this section an attempt is made to visualize the information and make it interactive by creating dashboard elements using the data prepared."
   ]
  },
  {
   "cell_type": "code",
   "execution_count": 50,
   "metadata": {},
   "outputs": [
    {
     "name": "stdout",
     "output_type": "stream",
     "text": [
      "Please select a type from the dropdown\n"
     ]
    },
    {
     "data": {
      "application/vnd.jupyter.widget-view+json": {
       "model_id": "f30e3643a15a4cec86bbd8c745c5556f",
       "version_major": 2,
       "version_minor": 0
      },
      "text/plain": [
       "interactive(children=(Dropdown(description='Type', index=2, options=('POP/DOCK', 'POP2010', 'CAPACITY'), value…"
      ]
     },
     "metadata": {},
     "output_type": "display_data"
    }
   ],
   "source": [
    "def f(Type='CAPACITY'):\n",
    "    df=CCA_new\n",
    "    %matplotlib inline\n",
    "    fig, ax = plt.subplots(figsize=(20,15))\n",
    "    \n",
    "    if Type=='CAPACITY':\n",
    "        cmap='Oranges'\n",
    "        x=800\n",
    "    elif Type=='POP/DOCK':\n",
    "        cmap = 'coolwarm'\n",
    "        x=500\n",
    "    else:\n",
    "        cmap= 'Reds'\n",
    "        x=80000\n",
    "    \n",
    "    df.plot(\n",
    "        column=Type, ax=ax, legend=True,  scheme='quantiles', cmap=cmap)\n",
    "    plt.title((Type+ ' in 77 Chicago Community Areas (CCAs)'), color ='black', fontsize='20')\n",
    "   \n",
    "    # In order to get labels for each Community lets extract cordinates and assign a representative point.\n",
    "    df['coords'] = df['geometry'].apply(lambda x: x.representative_point().coords[:])\n",
    "    df['coords'] = [coords[0] for coords in df['coords']]\n",
    "    for idx, row in df.iterrows():\n",
    "        plt.annotate(s=row['CCA_NUM'], xy=row['coords'],horizontalalignment='center')\n",
    "    plt.show()\n",
    "print(\"Please select a type from the dropdown\")\n",
    "interactive_plot = interactive(f, Type=['POP/DOCK','POP2010', 'CAPACITY'])\n",
    "output = interactive_plot.children[-1]\n",
    "interactive_plot"
   ]
  },
  {
   "cell_type": "markdown",
   "metadata": {},
   "source": [
    "### Mini DashBoard"
   ]
  },
  {
   "cell_type": "code",
   "execution_count": 51,
   "metadata": {},
   "outputs": [
    {
     "name": "stdout",
     "output_type": "stream",
     "text": [
      "Please select a Community from the dropdown\n"
     ]
    },
    {
     "data": {
      "application/vnd.jupyter.widget-view+json": {
       "model_id": "c30adb8b43454db3a20fb74aee7631e2",
       "version_major": 2,
       "version_minor": 0
      },
      "text/plain": [
       "interactive(children=(Dropdown(description='Community', index=37, options=('DOUGLAS', 'OAKLAND', 'FULLER PARK'…"
      ]
     },
     "metadata": {},
     "output_type": "display_data"
    }
   ],
   "source": [
    "def f(Community='LOOP'):\n",
    "    df =CCA_new.loc[CCA_new['COMMUNITY'] == Community]\n",
    "    print('Name of Community:', Community)\n",
    "    print('CCA Number:',df['CCA_NUM'].iloc[0])\n",
    "    print('Total Population as per 2010 Census:',df['POP2010'].iloc[0])\n",
    "    print('Total Docking Capacity:',df['CAPACITY'].iloc[0])\n",
    "    print('Population Per Dock Ratio:',df['POP/DOCK'].iloc[0])\n",
    "    \n",
    "    if df['CAPACITY'].iloc[0] == 0:\n",
    "        print(\"This Community has No Dock Station and hence Can't be plotted. Please select another.\")\n",
    "    else:\n",
    "        %matplotlib inline\n",
    "        fig, ax = plt.subplots(figsize=(12,10))\n",
    "        ax= df.plot(column='CAPACITY',ax=ax, scheme='quantiles', cmap='GnBu', label = Community)\n",
    "        ax.margins(tight=False)\n",
    "\n",
    "\n",
    "        df2 =CCA_DIVVY.loc[CCA_DIVVY['COMMUNITY'] == Community]\n",
    "        plt.xlim(df2['lon'].min()-0.01,df2['lon'].max()+0.01)\n",
    "        plt.ylim(df2['lat'].min()-0.01,df2['lat'].max()+0.01)\n",
    "        plt.scatter(x=df2['lon'], y=df2['lat'], label = 'Stations')\n",
    "        ax.legend()\n",
    "        plt.title(('DIVVY Stations in '+Community+' Community'), color ='black', fontsize='20')\n",
    "        print('Total Stations in Community:',df2['lat'].count())\n",
    "print(\"Please select a Community from the dropdown\")\n",
    "CC_names=CCA_new['COMMUNITY'].tolist()\n",
    "interactive_plot = interactive(f, Community=CC_names)\n",
    "output = interactive_plot.children[-1]\n",
    "interactive_plot\n"
   ]
  },
  {
   "cell_type": "markdown",
   "metadata": {},
   "source": [
    "#### End of Notebook. Thank You."
   ]
  },
  {
   "cell_type": "code",
   "execution_count": 55,
   "metadata": {},
   "outputs": [
    {
     "name": "stdout",
     "output_type": "stream",
     "text": [
      "The watermark extension is already loaded. To reload it, use:\n",
      "  %reload_ext watermark\n",
      "Python implementation: CPython\n",
      "Python version       : 3.7.6\n",
      "IPython version      : 7.13.0\n",
      "\n",
      "rtree: 0.9.4\n",
      "\n",
      "Compiler    : GCC 7.3.0\n",
      "OS          : Linux\n",
      "Release     : 3.10.0-1062.9.1.el7.x86_64\n",
      "Machine     : x86_64\n",
      "Processor   : x86_64\n",
      "CPU cores   : 10\n",
      "Architecture: 64bit\n",
      "\n",
      " \n",
      "Last updated: Tue Mar 02 2021 07:53:01UTC\n",
      "\n"
     ]
    }
   ],
   "source": [
    "%load_ext watermark\n",
    "\n",
    "# python, ipython, packages, and machine characteristics\n",
    "%watermark -v -m -p rtree\n",
    "\n",
    "# date\n",
    "print (\" \")\n",
    "%watermark -u -n -t -z"
   ]
  },
  {
   "cell_type": "code",
   "execution_count": null,
   "metadata": {},
   "outputs": [],
   "source": []
  }
 ],
 "metadata": {
  "kernelspec": {
   "display_name": "Python 3",
   "language": "python",
   "name": "python3"
  },
  "language_info": {
   "codemirror_mode": {
    "name": "ipython",
    "version": 3
   },
   "file_extension": ".py",
   "mimetype": "text/x-python",
   "name": "python",
   "nbconvert_exporter": "python",
   "pygments_lexer": "ipython3",
   "version": "3.7.6"
  }
 },
 "nbformat": 4,
 "nbformat_minor": 4
}
